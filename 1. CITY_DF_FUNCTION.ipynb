{
 "cells": [
  {
   "cell_type": "code",
   "execution_count": 3,
   "metadata": {
    "colab": {
     "base_uri": "https://localhost:8080/",
     "height": 337
    },
    "id": "h7XGRW58Onq4",
    "outputId": "aae44928-17e0-4321-bf23-15517c3c0bf0"
   },
   "outputs": [
    {
     "name": "stdout",
     "output_type": "stream",
     "text": [
      "Requirement already satisfied: beautifulsoup4 in c:\\users\\saide\\anaconda3\\lib\\site-packages (4.11.1)\n",
      "Requirement already satisfied: soupsieve>1.2 in c:\\users\\saide\\anaconda3\\lib\\site-packages (from beautifulsoup4) (2.3.1)\n"
     ]
    }
   ],
   "source": [
    "# colab has an older version of beautifulsoup by default\n",
    "# here we upgrade it\n",
    "# if you are working on your own computer, you can probably comment this step out and skip it\n",
    "!pip install --upgrade beautifulsoup4"
   ]
  },
  {
   "cell_type": "markdown",
   "metadata": {
    "id": "yqzEs4L--iTE"
   },
   "source": [
    "# New section"
   ]
  },
  {
   "cell_type": "code",
   "execution_count": 1,
   "metadata": {
    "id": "09E5mZ6mjM-J"
   },
   "outputs": [],
   "source": [
    "# 1. import libraries\n",
    "from bs4 import BeautifulSoup\n",
    "import requests\n",
    "import pandas as pd\n",
    "import re"
   ]
  },
  {
   "cell_type": "code",
   "execution_count": 2,
   "metadata": {
    "id": "EfulSS0rj9Gd"
   },
   "outputs": [],
   "source": [
    "# 2. find url and store it in a variable\n",
    "url = \"https://en.wikipedia.org/wiki/Berlin\""
   ]
  },
  {
   "cell_type": "code",
   "execution_count": 3,
   "metadata": {
    "colab": {
     "base_uri": "https://localhost:8080/"
    },
    "id": "6ToaJ81GkC0r",
    "outputId": "c3b205fc-f679-417b-d40a-1bcaf5de3dff"
   },
   "outputs": [
    {
     "data": {
      "text/plain": [
       "200"
      ]
     },
     "execution_count": 3,
     "metadata": {},
     "output_type": "execute_result"
    }
   ],
   "source": [
    "# 3. download html with a get request\n",
    "response = requests.get(url)\n",
    "response.status_code # 200 status code means OK!"
   ]
  },
  {
   "cell_type": "code",
   "execution_count": 4,
   "metadata": {
    "colab": {
     "base_uri": "https://localhost:8080/"
    },
    "id": "bBB9cK_1kHeK",
    "outputId": "020a421e-ccb1-4b09-b477-8783f503e20f"
   },
   "outputs": [],
   "source": [
    "# 4.1. parse html (create the 'soup')\n",
    "soup = BeautifulSoup(response.content, \"html.parser\")\n",
    "# 4.2. check that the html code looks like it should\n",
    "#soup"
   ]
  },
  {
   "cell_type": "code",
   "execution_count": 5,
   "metadata": {
    "colab": {
     "base_uri": "https://localhost:8080/"
    },
    "id": "NEPylwtLkRz6",
    "outputId": "e9fa8865-344d-42c4-8721-a3700f5b0e50"
   },
   "outputs": [
    {
     "data": {
      "text/plain": [
       "[<h1 class=\"firstHeading mw-first-heading\" id=\"firstHeading\"><span class=\"mw-page-title-main\">Berlin</span></h1>]"
      ]
     },
     "execution_count": 5,
     "metadata": {},
     "output_type": "execute_result"
    }
   ],
   "source": [
    "# 5. retrieve/extract the desired info (here, you'll paste the \"Selector\" you copied before to get the element that belongs to the top movie)\n",
    "\n",
    "# let's first try to get the name of the city\n",
    "# by copying the selector we can see that it has the id firstHeading (it also has a class by the same name!)\n",
    "soup.select(\"#firstHeading\")"
   ]
  },
  {
   "cell_type": "code",
   "execution_count": 6,
   "metadata": {
    "colab": {
     "base_uri": "https://localhost:8080/",
     "height": 35
    },
    "id": "xC2gDSscWtyS",
    "outputId": "c2c9275c-22cf-46ee-9261-787a799f4386"
   },
   "outputs": [
    {
     "data": {
      "text/plain": [
       "'Berlin'"
      ]
     },
     "execution_count": 6,
     "metadata": {},
     "output_type": "execute_result"
    }
   ],
   "source": [
    "soup.select(\"#firstHeading\")[0].get_text()"
   ]
  },
  {
   "cell_type": "code",
   "execution_count": 10,
   "metadata": {
    "colab": {
     "base_uri": "https://localhost:8080/",
     "height": 35
    },
    "id": "zqaG8u2YX96Z",
    "outputId": "a09423c5-0399-4072-b6cc-0c411cff334a"
   },
   "outputs": [
    {
     "data": {
      "text/plain": [
       "'\\xa0Germany'"
      ]
     },
     "execution_count": 10,
     "metadata": {},
     "output_type": "execute_result"
    }
   ],
   "source": [
    "# Let's use this class, infobox-data, to target the information country\n",
    "soup.select(\".infobox-data\")[0].get_text()"
   ]
  },
  {
   "cell_type": "code",
   "execution_count": 27,
   "metadata": {
    "id": "hdVBTcmTIwh8"
   },
   "outputs": [],
   "source": [
    "#soup.select(\".infobox-data\")[0].get_text()"
   ]
  },
  {
   "cell_type": "markdown",
   "metadata": {
    "id": "a5NbgdoeYKIo"
   },
   "source": [
    "Now we just carry on exploring the html, finding classes, ids, and selectors to target the information we need. Hopefully these classes and selectors will be universal across all cities on wikipedia, but it is likely that they will change in a few places, and we will have to try to make our code robust to this"
   ]
  },
  {
   "cell_type": "code",
   "execution_count": 7,
   "metadata": {
    "id": "6ZaT16qaP2yJ"
   },
   "outputs": [],
   "source": [
    "def recreate_wiki(cities):\n",
    "  \n",
    "  list_for_df = []\n",
    "  \n",
    " \n",
    "  for city in cities:\n",
    "\n",
    "    url = f'https://en.wikipedia.org/wiki/{city}'\n",
    "\n",
    "\n",
    "    r = requests.get(url)\n",
    "    soup = BeautifulSoup(r.content, 'html.parser')\n",
    "\n",
    "    response_dict = {}\n",
    "    response_dict['city'] = soup.select(\".firstHeading\")[0].get_text()\n",
    "    response_dict['country'] = soup.select(\".infobox-data\")[0].get_text()\n",
    "    response_dict['latitude'] = soup.select(\".latitude\")[0].get_text()\n",
    "    response_dict['longitude'] = soup.select(\".longitude\")[0].get_text()\n",
    "   \n",
    "    if soup.select_one('th.infobox-header:-soup-contains(\"Population\")'):\n",
    "        response_dict['population'] = soup.select_one('th.infobox-header:-soup-contains(\"Population\")').parent.find_next_sibling().find(text=re.compile(r'\\d+'))\n",
    "    \n",
    "\n",
    "    list_for_df.append(response_dict)\n",
    "\n",
    "  cities_df = pd.DataFrame(list_for_df)\n",
    "  cities_df['latitude'] = cities_df['latitude'].str.split('″').str[0].str.replace('°', '.', regex=False).str.replace('′', '', regex=False)\n",
    "  cities_df['longitude'] = cities_df['longitude'].str.split('″').str[0].str.replace('°', '.', regex=False).str.replace('′', '', regex=False)\n",
    "  cities_df['population'] = cities_df['population'].str.replace(',','', regex = False)\n",
    "\n",
    "  return cities_df"
   ]
  },
  {
   "cell_type": "code",
   "execution_count": 8,
   "metadata": {
    "colab": {
     "base_uri": "https://localhost:8080/",
     "height": 206
    },
    "id": "vPj5D3KfTZk2",
    "outputId": "9608a2e1-1bc1-4f2f-830c-e0d3d1896c1e"
   },
   "outputs": [
    {
     "data": {
      "text/html": [
       "<div>\n",
       "<style scoped>\n",
       "    .dataframe tbody tr th:only-of-type {\n",
       "        vertical-align: middle;\n",
       "    }\n",
       "\n",
       "    .dataframe tbody tr th {\n",
       "        vertical-align: top;\n",
       "    }\n",
       "\n",
       "    .dataframe thead th {\n",
       "        text-align: right;\n",
       "    }\n",
       "</style>\n",
       "<table border=\"1\" class=\"dataframe\">\n",
       "  <thead>\n",
       "    <tr style=\"text-align: right;\">\n",
       "      <th></th>\n",
       "      <th>city</th>\n",
       "      <th>country</th>\n",
       "      <th>latitude</th>\n",
       "      <th>longitude</th>\n",
       "      <th>population</th>\n",
       "    </tr>\n",
       "  </thead>\n",
       "  <tbody>\n",
       "    <tr>\n",
       "      <th>0</th>\n",
       "      <td>Berlin</td>\n",
       "      <td>Germany</td>\n",
       "      <td>52.3112</td>\n",
       "      <td>13.2418</td>\n",
       "      <td>3769495</td>\n",
       "    </tr>\n",
       "    <tr>\n",
       "      <th>1</th>\n",
       "      <td>Hamburg</td>\n",
       "      <td>Germany</td>\n",
       "      <td>53.3300</td>\n",
       "      <td>10.0000</td>\n",
       "      <td>1845229</td>\n",
       "    </tr>\n",
       "    <tr>\n",
       "      <th>2</th>\n",
       "      <td>London</td>\n",
       "      <td>United Kingdom</td>\n",
       "      <td>51.3026</td>\n",
       "      <td>0.739</td>\n",
       "      <td>8799800</td>\n",
       "    </tr>\n",
       "    <tr>\n",
       "      <th>3</th>\n",
       "      <td>Manchester</td>\n",
       "      <td>United Kingdom</td>\n",
       "      <td>53.2846</td>\n",
       "      <td>2.1443</td>\n",
       "      <td>552858</td>\n",
       "    </tr>\n",
       "    <tr>\n",
       "      <th>4</th>\n",
       "      <td>Barcelona</td>\n",
       "      <td>Spain</td>\n",
       "      <td>41.23N</td>\n",
       "      <td>2.11E</td>\n",
       "      <td>1620343</td>\n",
       "    </tr>\n",
       "  </tbody>\n",
       "</table>\n",
       "</div>"
      ],
      "text/plain": [
       "         city          country latitude longitude population\n",
       "0      Berlin          Germany  52.3112   13.2418    3769495\n",
       "1     Hamburg          Germany  53.3300   10.0000    1845229\n",
       "2      London   United Kingdom  51.3026     0.739    8799800\n",
       "3  Manchester   United Kingdom  53.2846    2.1443     552858\n",
       "4   Barcelona            Spain   41.23N     2.11E    1620343"
      ]
     },
     "execution_count": 8,
     "metadata": {},
     "output_type": "execute_result"
    }
   ],
   "source": [
    "list_of_cities = ['Berlin', 'Hamburg', 'London', 'Manchester', 'Barcelona']\n",
    "city = recreate_wiki(list_of_cities)\n",
    "city"
   ]
  },
  {
   "cell_type": "code",
   "execution_count": 15,
   "metadata": {},
   "outputs": [],
   "source": [
    "cityid = [1,2,3,4,5]\n",
    "city[\"cityid\"] = cityid"
   ]
  },
  {
   "cell_type": "code",
   "execution_count": 16,
   "metadata": {},
   "outputs": [
    {
     "name": "stdout",
     "output_type": "stream",
     "text": [
      "<class 'pandas.core.frame.DataFrame'>\n",
      "RangeIndex: 5 entries, 0 to 4\n",
      "Data columns (total 6 columns):\n",
      " #   Column      Non-Null Count  Dtype \n",
      "---  ------      --------------  ----- \n",
      " 0   city        5 non-null      object\n",
      " 1   country     5 non-null      object\n",
      " 2   latitude    5 non-null      object\n",
      " 3   longitude   5 non-null      object\n",
      " 4   population  5 non-null      object\n",
      " 5   cityid      5 non-null      int64 \n",
      "dtypes: int64(1), object(5)\n",
      "memory usage: 368.0+ bytes\n"
     ]
    }
   ],
   "source": [
    "city.info()"
   ]
  },
  {
   "cell_type": "code",
   "execution_count": 17,
   "metadata": {},
   "outputs": [
    {
     "name": "stdout",
     "output_type": "stream",
     "text": [
      "b\n"
     ]
    }
   ],
   "source": [
    "schema=\"e_scooter\"   # name of the database you want to use here\n",
    "host=\"127.0.0.1\"        # to connect to your local server\n",
    "user=\"root\"\n",
    "password=\"saideshmukh16\" # your password!!!!\n",
    "port=3306\n",
    "con = f'mysql+pymysql://{user}:{password}@{host}:{port}/{schema}'\n",
    "\n",
    "print(\"b\")"
   ]
  },
  {
   "cell_type": "code",
   "execution_count": 18,
   "metadata": {},
   "outputs": [
    {
     "data": {
      "text/plain": [
       "5"
      ]
     },
     "execution_count": 18,
     "metadata": {},
     "output_type": "execute_result"
    }
   ],
   "source": [
    "city.to_sql(\"city_df\", if_exists = \"append\", con = con, index = False)"
   ]
  },
  {
   "cell_type": "markdown",
   "metadata": {
    "id": "eHdsigyS0jTA"
   },
   "source": [
    "## Alternate to get population:"
   ]
  },
  {
   "cell_type": "code",
   "execution_count": 25,
   "metadata": {
    "id": "pTcbUSoAyzZC"
   },
   "outputs": [],
   "source": [
    "#df=pd.DataFrame(list(zip(city, country, population, coords)), columns =['city', 'country', 'population', 'coords'])"
   ]
  },
  {
   "cell_type": "code",
   "execution_count": 11,
   "metadata": {
    "colab": {
     "base_uri": "https://localhost:8080/"
    },
    "id": "cQ3ylUK2za2U",
    "outputId": "fcf5cb66-bced-4a00-e35a-a096f80c428d"
   },
   "outputs": [
    {
     "data": {
      "text/plain": [
       "[<th class=\"infobox-label\" scope=\"row\">Country</th>,\n",
       " <th class=\"infobox-label\" scope=\"row\"><a href=\"/wiki/States_of_Germany\" title=\"States of Germany\">State</a></th>,\n",
       " <th class=\"infobox-label\" scope=\"row\"> • Body</th>,\n",
       " <th class=\"infobox-label\" scope=\"row\"> • <a href=\"/wiki/Governing_Mayor_of_Berlin\" title=\"Governing Mayor of Berlin\">Governing Mayor</a></th>,\n",
       " <th class=\"infobox-label\" scope=\"row\"> • <a class=\"mw-redirect\" href=\"/wiki/Bundesrat_of_Germany\" title=\"Bundesrat of Germany\">Bundesrat votes</a></th>,\n",
       " <th class=\"infobox-label\" scope=\"row\"> • <a href=\"/wiki/Bundestag\" title=\"Bundestag\">Bundestag seats</a></th>,\n",
       " <th class=\"infobox-label\" scope=\"row\"> • City/State</th>,\n",
       " <th class=\"infobox-label\" scope=\"row\"> • Urban<div class=\"ib-settlement-fn\"></div></th>,\n",
       " <th class=\"infobox-label\" scope=\"row\"> • Metro<div class=\"ib-settlement-fn\"></div></th>,\n",
       " <th class=\"infobox-label\" scope=\"row\">Elevation<div class=\"ib-settlement-fn\"></div></th>,\n",
       " <th class=\"infobox-label\" scope=\"row\"> • City/State</th>,\n",
       " <th class=\"infobox-label\" scope=\"row\"> • <a href=\"/wiki/Urban_area\" title=\"Urban area\">Urban</a><div class=\"ib-settlement-fn\"><sup class=\"reference\" id=\"cite_ref-citypopulation_urban_3-0\"><a href=\"#cite_note-citypopulation_urban-3\">[3]</a></sup></div></th>,\n",
       " <th class=\"infobox-label\" scope=\"row\"> • <a href=\"/wiki/Metropolitan_area\" title=\"Metropolitan area\">Metro</a><div class=\"ib-settlement-fn\"><sup class=\"reference\" id=\"cite_ref-4\"><a href=\"#cite_note-4\">[4]</a></sup></div></th>,\n",
       " <th class=\"infobox-label\" scope=\"row\"><a href=\"/wiki/Demonym\" title=\"Demonym\">Demonyms</a></th>,\n",
       " <th class=\"infobox-label\" scope=\"row\"><a href=\"/wiki/Time_zone\" title=\"Time zone\">Time zone</a></th>,\n",
       " <th class=\"infobox-label\" scope=\"row\"><span class=\"nowrap\"> • Summer (<a href=\"/wiki/Daylight_saving_time\" title=\"Daylight saving time\">DST</a>)</span></th>,\n",
       " <th class=\"infobox-label\" scope=\"row\"><a href=\"/wiki/Telephone_numbering_plan\" title=\"Telephone numbering plan\">Area codes</a></th>,\n",
       " <th class=\"infobox-label\" scope=\"row\"><a href=\"/wiki/Geocode\" title=\"Geocode\">Geocode</a></th>,\n",
       " <th class=\"infobox-label\" scope=\"row\"><a href=\"/wiki/ISO_3166\" title=\"ISO 3166\">ISO 3166 code</a></th>,\n",
       " <th class=\"infobox-label\" scope=\"row\"><a href=\"/wiki/Vehicle_registration_plate\" title=\"Vehicle registration plate\">Vehicle registration</a></th>,\n",
       " <th class=\"infobox-label\" scope=\"row\"><a href=\"/wiki/Gross_regional_product\" title=\"Gross regional product\">GRP (nominal)</a></th>,\n",
       " <th class=\"infobox-label\" scope=\"row\">GRP per capita</th>,\n",
       " <th class=\"infobox-label\" scope=\"row\"><a class=\"mw-redirect\" href=\"/wiki/GeoTLD\" title=\"GeoTLD\">GeoTLD</a></th>,\n",
       " <th class=\"infobox-label\" scope=\"row\"><a href=\"/wiki/Human_Development_Index\" title=\"Human Development Index\">HDI</a> (2018)</th>,\n",
       " <th class=\"infobox-label\" scope=\"row\">Website</th>]"
      ]
     },
     "execution_count": 11,
     "metadata": {},
     "output_type": "execute_result"
    }
   ],
   "source": [
    "#here we make our soup for the city\n",
    "r = requests.get(\"https://en.wikipedia.org/wiki/Berlin\")\n",
    "soup = BeautifulSoup(r.content, 'html.parser')\n",
    "soup.select('.infobox-label')"
   ]
  },
  {
   "cell_type": "code",
   "execution_count": null,
   "metadata": {},
   "outputs": [],
   "source": []
  }
 ],
 "metadata": {
  "colab": {
   "collapsed_sections": [],
   "provenance": [],
   "toc_visible": true
  },
  "kernelspec": {
   "display_name": "Python 3 (ipykernel)",
   "language": "python",
   "name": "python3"
  },
  "language_info": {
   "codemirror_mode": {
    "name": "ipython",
    "version": 3
   },
   "file_extension": ".py",
   "mimetype": "text/x-python",
   "name": "python",
   "nbconvert_exporter": "python",
   "pygments_lexer": "ipython3",
   "version": "3.9.12"
  }
 },
 "nbformat": 4,
 "nbformat_minor": 4
}
