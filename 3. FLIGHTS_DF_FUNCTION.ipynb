{
 "cells": [
  {
   "cell_type": "markdown",
   "metadata": {
    "id": "Wu99MtE0j0za"
   },
   "source": [
    "So far we've learnt how to scrape the web, and how to make a request for information from an API. Some websites make APIs even easier. Check out [RapidAPI](https://rapidapi.com/) they take care of writing most of the code for you.\n",
    "\n",
    "We will use the [AeroDataBox API](https://rapidapi.com/aedbx-aedbx/api/aerodatabox/), which can retrieve all sorts of information about flights and airports. We will show you how to retrieve information about the airports, and then it's up to you to apply this, along with what you've already learnt this week, to **produce a function, which retrieves tomorrows flight information for the major airports in the cities you web scraped**."
   ]
  },
  {
   "cell_type": "code",
   "execution_count": 1,
   "metadata": {
    "id": "lIYdn1woOS1n"
   },
   "outputs": [],
   "source": [
    "import pandas as pd\n",
    "import requests"
   ]
  },
  {
   "cell_type": "markdown",
   "metadata": {
    "id": "_xaphJ-ElsfW"
   },
   "source": [
    "On the left hand side of the AeroDataBox API page, you'll see a list of options for information that you can retrieve:\n",
    "> - Flights API\n",
    "- Subsciption / PUSH API\n",
    "- Airport API\n",
    "- Aircraft API\n",
    "- Healthcheck & Status API\n",
    "\n",
    "1. We want to select `Airport API`\n",
    "\n",
    "2. Then within Airport API we want to select `Search airports by location`\n",
    "\n",
    "3. Now in the middle third you'll want to enter the `latitude` and `longitude` of any city to test... we chose Berlin: latitude 52.31 longitude 13.24. Next we changed the `radiusKM` to only 50km. And finally set `withFlightInfoOnly` to true, so it will only return airports which have flight data (scheduled or live) available.\n",
    "\n",
    "4. On the right hand third of the screen you should see a block of code that looks pretty unfamiliar. This is because by default the code is probably set to *(Node.js) Axios*. However, we have the power to change this to familiar python. Select the dropdown box at the top of the code and select `python > requests`.\n",
    "\n",
    "Now you can copy the code to your notebook and it should look a little something like the cell below:"
   ]
  },
  {
   "cell_type": "code",
   "execution_count": 2,
   "metadata": {
    "colab": {
     "base_uri": "https://localhost:8080/"
    },
    "id": "ZDlUQxEZicBS",
    "outputId": "c87d8910-5af6-4a69-8a25-b1eb97e44fb0"
   },
   "outputs": [
    {
     "name": "stdout",
     "output_type": "stream",
     "text": [
      "{\"message\":\"You are not subscribed to this API.\"}\n"
     ]
    }
   ],
   "source": [
    "import requests\n",
    "\n",
    "url = \"https://aerodatabox.p.rapidapi.com/airports/search/location/52.31/13.24/km/50/16\"\n",
    "\n",
    "querystring = {\"withFlightInfoOnly\":\"true\"}\n",
    "\n",
    "headers = {\n",
    "\t\"X-RapidAPI-Key\": \"YOUR_API_KEY_HERE\",\n",
    "\t\"X-RapidAPI-Host\": \"aerodatabox.p.rapidapi.com\"\n",
    "}\n",
    "\n",
    "response = requests.request(\"GET\", url, headers=headers, params=querystring)\n",
    "\n",
    "print(response.text)"
   ]
  },
  {
   "cell_type": "markdown",
   "metadata": {
    "id": "yAI0OyJpopkG"
   },
   "source": [
    "Let's view the response as `.json()` instead of `.text` so that it's easier to read"
   ]
  },
  {
   "cell_type": "code",
   "execution_count": 36,
   "metadata": {
    "colab": {
     "base_uri": "https://localhost:8080/"
    },
    "id": "iYctxSRWo22l",
    "outputId": "f81caba4-f5aa-4f2f-f349-1262fc6cfd8c"
   },
   "outputs": [],
   "source": [
    "#response.json()"
   ]
  },
  {
   "cell_type": "markdown",
   "metadata": {
    "id": "mPPVXqoDpiJ0"
   },
   "source": [
    "We can now turn this into a dataframe using `.json_normalize()`"
   ]
  },
  {
   "cell_type": "code",
   "execution_count": 99,
   "metadata": {
    "id": "L8l3G1wRpESW"
   },
   "outputs": [],
   "source": [
    "#pd.json_normalize(response.json()['items'])"
   ]
  },
  {
   "cell_type": "markdown",
   "metadata": {
    "id": "Q47nbbH0I3Xt"
   },
   "source": [
    "Let's now use this for the latitude and longitude of multiple cities"
   ]
  },
  {
   "cell_type": "code",
   "execution_count": 3,
   "metadata": {
    "id": "q0VCPFOmH3vl"
   },
   "outputs": [],
   "source": [
    "def icao_airport_codes(latitudes, longitudes):\n",
    "\n",
    "  #assert len(latitudes) == len(longitudes)\n",
    "  \n",
    "  list_for_df = []\n",
    "\n",
    "  for i in range(len(latitudes)):\n",
    "\n",
    "    url = f\"https://aerodatabox.p.rapidapi.com/airports/search/location/{latitudes[i]}/{longitudes[i]}/km/100/16\"\n",
    "\n",
    "    querystring = {\"withFlightInfoOnly\":\"true\"}\n",
    "\n",
    "    headers = {\n",
    "      \"X-RapidAPI-Host\": \"aerodatabox.p.rapidapi.com\",\n",
    "      \"X-RapidAPI-Key\": \"YOUR_API_KEY_HERE\"\n",
    "    }\n",
    "\n",
    "    response = requests.request(\"GET\", url, headers=headers, params=querystring)\n",
    "\n",
    "    list_for_df.append(pd.json_normalize(response.json()['items']))\n",
    "\n",
    "  return pd.concat(list_for_df, ignore_index=True)"
   ]
  },
  {
   "cell_type": "markdown",
   "metadata": {
    "id": "q3DS1gbq3xG8"
   },
   "source": [
    "###### **Challenge 1:** Icao codes\n",
    "If you use the above for all of your cities, you can create a DataFrame of all the airports and their associated `icao` codes. Perfect for a relational database.\n",
    "\n",
    "###### **Challenge 2:** Arrivals information\n",
    "Using what you have been shown above, plus the skills you've learnt in the last couple of days:\n",
    "1. In `AeroDataBox API` use the `Flight API` > `FIDS/Schedules: Airport departures and arrivals by airport ICAO code` section\n",
    "2. Fill out the parameters in the middle third and then copy the `python: requests` code from the right hand third\n",
    "3. Explore the data you get back. What would be useful in your DataFrame and what can be excluded? Remember Gans wants to know about when people are arriving in the city\n",
    "4. Make a DataFrame from the information you see as important\n",
    "5. Condense everything you did above into a function that can take a list of ICAO codes as an input, and as an output gives you a DataFrame with the information for *tomorrows arrivals*"
   ]
  },
  {
   "cell_type": "code",
   "execution_count": 4,
   "metadata": {
    "colab": {
     "base_uri": "https://localhost:8080/"
    },
    "id": "4xFK3kVd4w5A",
    "outputId": "b7919dbf-7d7c-4a3a-f6f9-6f349348c2a7"
   },
   "outputs": [],
   "source": [
    "# your code here\n",
    "import requests\n",
    "\n",
    "url = \"https://aerodatabox.p.rapidapi.com/flights/airports/icao/EHAM/2022-11-04T08:00/2022-11-04T19:59\"\n",
    "\n",
    "querystring = {\"withLeg\":\"true\",\"withCancelled\":\"true\",\"withCodeshared\":\"true\",\"withCargo\":\"true\",\"withPrivate\":\"true\",\"withLocation\":\"false\"}\n",
    "\n",
    "headers = {\n",
    "\t\"X-RapidAPI-Key\": \"e723d7487fmsh7fce19b65c2f2eep119c33jsneeee8c0c0fc9\",\n",
    "\t\"X-RapidAPI-Host\": \"aerodatabox.p.rapidapi.com\"\n",
    "}\n",
    "\n",
    "response = requests.request(\"GET\", url, headers=headers, params=querystring)\n",
    "\n",
    "#print(response.text)"
   ]
  },
  {
   "cell_type": "code",
   "execution_count": 4,
   "metadata": {
    "id": "vxgOB2KJD0Fi"
   },
   "outputs": [],
   "source": [
    "import pandas as pd"
   ]
  },
  {
   "cell_type": "code",
   "execution_count": 6,
   "metadata": {
    "id": "D2XTKWeTEATi"
   },
   "outputs": [],
   "source": [
    "flight_data = response.json()"
   ]
  },
  {
   "cell_type": "code",
   "execution_count": 7,
   "metadata": {
    "colab": {
     "base_uri": "https://localhost:8080/"
    },
    "id": "7aavcFFjED_j",
    "outputId": "de0cf200-51f5-4519-9763-5d1c16898321"
   },
   "outputs": [
    {
     "data": {
      "text/plain": [
       "dict"
      ]
     },
     "execution_count": 7,
     "metadata": {},
     "output_type": "execute_result"
    }
   ],
   "source": [
    "type(flight_data)"
   ]
  },
  {
   "cell_type": "code",
   "execution_count": 6,
   "metadata": {
    "colab": {
     "base_uri": "https://localhost:8080/"
    },
    "id": "GPbnAngO5rHS",
    "outputId": "5dde6fa5-a96d-4741-c01a-f23a0f1b118e"
   },
   "outputs": [
    {
     "data": {
      "text/plain": [
       "2"
      ]
     },
     "execution_count": 6,
     "metadata": {},
     "output_type": "execute_result"
    }
   ],
   "source": [
    "len(flight_data)"
   ]
  },
  {
   "cell_type": "code",
   "execution_count": 11,
   "metadata": {
    "colab": {
     "base_uri": "https://localhost:8080/"
    },
    "id": "HC9OwmKr5t64",
    "outputId": "060f5371-66fd-4bc1-8ed9-caa50e0df0e4"
   },
   "outputs": [
    {
     "data": {
      "text/plain": [
       "dict_keys(['message'])"
      ]
     },
     "execution_count": 11,
     "metadata": {},
     "output_type": "execute_result"
    }
   ],
   "source": [
    "flight_data.keys()"
   ]
  },
  {
   "cell_type": "code",
   "execution_count": 12,
   "metadata": {},
   "outputs": [
    {
     "data": {
      "text/plain": [
       "'You are not subscribed to this API.'"
      ]
     },
     "execution_count": 12,
     "metadata": {},
     "output_type": "execute_result"
    }
   ],
   "source": [
    "flight_data['message']"
   ]
  },
  {
   "cell_type": "code",
   "execution_count": 83,
   "metadata": {
    "id": "kUm5wFcKfGgl"
   },
   "outputs": [],
   "source": [
    "#flight_data['departures']"
   ]
  },
  {
   "cell_type": "code",
   "execution_count": 9,
   "metadata": {
    "id": "3-23YdrAKQVE"
   },
   "outputs": [
    {
     "ename": "KeyError",
     "evalue": "'arrivals'",
     "output_type": "error",
     "traceback": [
      "\u001b[1;31m---------------------------------------------------------------------------\u001b[0m",
      "\u001b[1;31mKeyError\u001b[0m                                  Traceback (most recent call last)",
      "Input \u001b[1;32mIn [9]\u001b[0m, in \u001b[0;36m<cell line: 1>\u001b[1;34m()\u001b[0m\n\u001b[1;32m----> 1\u001b[0m arrival_data \u001b[38;5;241m=\u001b[39m \u001b[43mflight_data\u001b[49m\u001b[43m[\u001b[49m\u001b[38;5;124;43m'\u001b[39;49m\u001b[38;5;124;43marrivals\u001b[39;49m\u001b[38;5;124;43m'\u001b[39;49m\u001b[43m]\u001b[49m\n",
      "\u001b[1;31mKeyError\u001b[0m: 'arrivals'"
     ]
    }
   ],
   "source": [
    "arrival_data = flight_data['arrivals']"
   ]
  },
  {
   "cell_type": "markdown",
   "metadata": {
    "id": "yCkLPxReUdvh"
   },
   "source": [
    "# Arrivals"
   ]
  },
  {
   "cell_type": "code",
   "execution_count": null,
   "metadata": {
    "id": "F-UPLWCbhpzs"
   },
   "outputs": [],
   "source": [
    "#flights_dict['arrival_terminal'] = flight['arrival'].get('terminal', None)"
   ]
  },
  {
   "cell_type": "code",
   "execution_count": 9,
   "metadata": {
    "colab": {
     "base_uri": "https://localhost:8080/"
    },
    "id": "DuksEZGq5xeZ",
    "outputId": "213a5281-f6f2-47c4-992f-e91bcf5f267a"
   },
   "outputs": [
    {
     "ename": "SyntaxError",
     "evalue": "invalid syntax (2578028318.py, line 1)",
     "output_type": "error",
     "traceback": [
      "\u001b[1;36m  Input \u001b[1;32mIn [9]\u001b[1;36m\u001b[0m\n\u001b[1;33m    if flight_data['arrivals'][10]['arrival']\u001b[0m\n\u001b[1;37m                                              ^\u001b[0m\n\u001b[1;31mSyntaxError\u001b[0m\u001b[1;31m:\u001b[0m invalid syntax\n"
     ]
    }
   ],
   "source": [
    "if flight_data['arrivals'][10]['arrival'] \n"
   ]
  },
  {
   "cell_type": "code",
   "execution_count": 10,
   "metadata": {
    "colab": {
     "base_uri": "https://localhost:8080/"
    },
    "id": "EM3gIPXq56y1",
    "outputId": "73c6014a-64e4-407d-fd4c-7031ee0a4d2e"
   },
   "outputs": [
    {
     "data": {
      "text/plain": [
       "1435"
      ]
     },
     "execution_count": 10,
     "metadata": {},
     "output_type": "execute_result"
    }
   ],
   "source": [
    "len(arrival_data)"
   ]
  },
  {
   "cell_type": "code",
   "execution_count": 11,
   "metadata": {
    "colab": {
     "base_uri": "https://localhost:8080/"
    },
    "id": "8iziyVmtR9nr",
    "outputId": "f85eb6d3-88fb-4666-db61-6a2383bf9c48"
   },
   "outputs": [
    {
     "data": {
      "text/plain": [
       "list"
      ]
     },
     "execution_count": 11,
     "metadata": {},
     "output_type": "execute_result"
    }
   ],
   "source": [
    "type(arrival_data)"
   ]
  },
  {
   "cell_type": "code",
   "execution_count": 12,
   "metadata": {
    "colab": {
     "base_uri": "https://localhost:8080/",
     "height": 35
    },
    "id": "AjkyueTa6ALX",
    "outputId": "d16bca3f-9ef5-41ec-8479-6f899e3e9d2d"
   },
   "outputs": [
    {
     "data": {
      "text/plain": [
       "'2022-11-04 15:50+01:00'"
      ]
     },
     "execution_count": 12,
     "metadata": {},
     "output_type": "execute_result"
    }
   ],
   "source": [
    "arrival_data[0]['arrival']['actualTimeLocal']"
   ]
  },
  {
   "cell_type": "code",
   "execution_count": 13,
   "metadata": {
    "colab": {
     "base_uri": "https://localhost:8080/"
    },
    "id": "qKYC6jGM6EaS",
    "outputId": "706598d8-0706-4b3c-94c9-0e641a75ff96"
   },
   "outputs": [
    {
     "data": {
      "text/plain": [
       "['2022-11-03 08:45+01:00']"
      ]
     },
     "execution_count": 13,
     "metadata": {},
     "output_type": "execute_result"
    }
   ],
   "source": [
    "schedulded_time = [] \n",
    "schedulded_time.append(arrival_data[0]['arrival']['scheduledTimeLocal'])\n",
    "schedulded_time"
   ]
  },
  {
   "cell_type": "markdown",
   "metadata": {
    "id": "6yyzGOTgUshn"
   },
   "source": [
    "We need \n",
    "1. actual arrival time\n",
    "2. schedulded arrival \n",
    "3. airline name\n",
    "4. terminal\n"
   ]
  },
  {
   "cell_type": "code",
   "execution_count": 14,
   "metadata": {
    "colab": {
     "base_uri": "https://localhost:8080/"
    },
    "id": "Ucl4l_7OfYRQ",
    "outputId": "39ad5144-cb90-4f84-f2b8-ab59e80ab433"
   },
   "outputs": [
    {
     "data": {
      "text/plain": [
       "dict_keys(['departure', 'arrival', 'number', 'status', 'codeshareStatus', 'isCargo', 'aircraft', 'airline'])"
      ]
     },
     "execution_count": 14,
     "metadata": {},
     "output_type": "execute_result"
    }
   ],
   "source": [
    "arrival_data[0].keys()"
   ]
  },
  {
   "cell_type": "code",
   "execution_count": 17,
   "metadata": {
    "colab": {
     "base_uri": "https://localhost:8080/"
    },
    "id": "gCfiwkn-fmsg",
    "outputId": "c3d26258-bae8-40c2-c798-62481d50ec17"
   },
   "outputs": [
    {
     "data": {
      "text/plain": [
       "{'departure': {'airport': {'icao': 'LSZH', 'iata': 'ZRH', 'name': 'Zurich'},\n",
       "  'quality': []},\n",
       " 'arrival': {'scheduledTimeLocal': '2022-11-03 08:45+01:00',\n",
       "  'actualTimeLocal': '2022-11-04 15:50+01:00',\n",
       "  'runwayTimeLocal': '2022-11-04 15:50+01:00',\n",
       "  'scheduledTimeUtc': '2022-11-03 07:45Z',\n",
       "  'actualTimeUtc': '2022-11-04 14:50Z',\n",
       "  'runwayTimeUtc': '2022-11-04 14:50Z',\n",
       "  'terminal': '2',\n",
       "  'baggageBelt': '11',\n",
       "  'quality': ['Basic', 'Live']},\n",
       " 'number': 'DL 9549',\n",
       " 'status': 'Arrived',\n",
       " 'codeshareStatus': 'IsCodeshared',\n",
       " 'isCargo': False,\n",
       " 'aircraft': {'model': 'Embraer 195-E2'},\n",
       " 'airline': {'name': 'Delta Air Lines'}}"
      ]
     },
     "execution_count": 17,
     "metadata": {},
     "output_type": "execute_result"
    }
   ],
   "source": [
    "arrival_data[0]"
   ]
  },
  {
   "cell_type": "code",
   "execution_count": 98,
   "metadata": {
    "id": "wJfqhy0xUTrH"
   },
   "outputs": [],
   "source": [
    "#flights_dict['arrival_terminal'] = flight['arrival'].get('terminal', None)\n"
   ]
  },
  {
   "cell_type": "markdown",
   "metadata": {
    "id": "oEN7XWAfUklw"
   },
   "source": []
  },
  {
   "cell_type": "markdown",
   "metadata": {
    "id": "pkBz5QtVeKQS"
   },
   "source": [
    "## Terminal"
   ]
  },
  {
   "cell_type": "markdown",
   "metadata": {
    "id": "u2DkqNsJ1n4i"
   },
   "source": [
    " DID NOT FIND TERMINAL DATA FOR THIS CIAO/CAIO"
   ]
  },
  {
   "cell_type": "code",
   "execution_count": 18,
   "metadata": {
    "colab": {
     "base_uri": "https://localhost:8080/"
    },
    "id": "1wy7QamFeIxE",
    "outputId": "ad236020-271c-4fa6-cce3-b6f7ed3b4d4d"
   },
   "outputs": [
    {
     "data": {
      "text/plain": [
       "{'scheduledTimeLocal': '2022-11-04 08:45+01:00',\n",
       " 'actualTimeLocal': '2022-11-04 08:17+01:00',\n",
       " 'runwayTimeLocal': '2022-11-04 08:17+01:00',\n",
       " 'scheduledTimeUtc': '2022-11-04 07:45Z',\n",
       " 'actualTimeUtc': '2022-11-04 07:17Z',\n",
       " 'runwayTimeUtc': '2022-11-04 07:17Z',\n",
       " 'terminal': '2',\n",
       " 'baggageBelt': '9',\n",
       " 'quality': ['Basic', 'Live']}"
      ]
     },
     "execution_count": 18,
     "metadata": {},
     "output_type": "execute_result"
    }
   ],
   "source": [
    "arrival_data[100]['arrival']"
   ]
  },
  {
   "cell_type": "code",
   "execution_count": 104,
   "metadata": {
    "colab": {
     "base_uri": "https://localhost:8080/"
    },
    "id": "UzKBKx_NkQRF",
    "outputId": "ab99f88b-4f88-4435-eb2d-b448a7bfdce2"
   },
   "outputs": [
    {
     "data": {
      "text/plain": [
       "{'key or value': [2, 9, 9, 0]}"
      ]
     },
     "execution_count": 104,
     "metadata": {},
     "output_type": "execute_result"
    }
   ],
   "source": [
    "d1 = {}\n",
    "d1['key or value'] = [2,9,9,0]\n",
    "d1"
   ]
  },
  {
   "cell_type": "code",
   "execution_count": 123,
   "metadata": {
    "id": "5yTgpQkkkZR5"
   },
   "outputs": [],
   "source": [
    "terminal = []\n",
    "#for i in range(len(arrival_data)):\n",
    "#  if arrival_data[i]['arrival']['terminal'] is None:\n",
    " #   terminal.append(\"None\")\n",
    " # else:\n",
    "  #  terminal.append(arrival_data[i]['arrival']['terminal'])\n",
    "\n",
    "#terminal"
   ]
  },
  {
   "cell_type": "code",
   "execution_count": 117,
   "metadata": {
    "colab": {
     "base_uri": "https://localhost:8080/"
    },
    "id": "huh3-XKf0tv6",
    "outputId": "dc9f032a-04aa-4d5f-9e62-aebcd1b44eae"
   },
   "outputs": [
    {
     "data": {
      "text/plain": [
       "dict_keys(['airport', 'scheduledTimeLocal', 'scheduledTimeUtc', 'terminal', 'quality'])"
      ]
     },
     "execution_count": 117,
     "metadata": {},
     "output_type": "execute_result"
    }
   ],
   "source": [
    "arrival_data[0]['departure'].keys()"
   ]
  },
  {
   "cell_type": "code",
   "execution_count": 122,
   "metadata": {
    "colab": {
     "base_uri": "https://localhost:8080/"
    },
    "id": "eC4o2aYz1FnS",
    "outputId": "f2629526-a951-457c-b899-dac41d96723c"
   },
   "outputs": [
    {
     "data": {
      "text/plain": [
       "dict_keys(['scheduledTimeLocal', 'actualTimeLocal', 'scheduledTimeUtc', 'actualTimeUtc', 'quality'])"
      ]
     },
     "execution_count": 122,
     "metadata": {},
     "output_type": "execute_result"
    }
   ],
   "source": [
    "flight_data['departures'][0]['departure'].keys()"
   ]
  },
  {
   "cell_type": "markdown",
   "metadata": {
    "id": "HQsK-42rHnt-"
   },
   "source": [
    "## Status"
   ]
  },
  {
   "cell_type": "code",
   "execution_count": 37,
   "metadata": {
    "colab": {
     "base_uri": "https://localhost:8080/",
     "height": 35
    },
    "id": "L0Cfi15PHqiG",
    "outputId": "bafc004f-35ba-440d-d79c-8cdadfea72c8"
   },
   "outputs": [
    {
     "data": {
      "application/vnd.google.colaboratory.intrinsic+json": {
       "type": "string"
      },
      "text/plain": [
       "'Expected'"
      ]
     },
     "execution_count": 37,
     "metadata": {},
     "output_type": "execute_result"
    }
   ],
   "source": [
    "arrival_data[0]['status']"
   ]
  },
  {
   "cell_type": "code",
   "execution_count": 63,
   "metadata": {
    "colab": {
     "base_uri": "https://localhost:8080/"
    },
    "id": "smjgK1wfHv43",
    "outputId": "c1e522bb-2972-40c6-8dd6-cbbf974d79cf"
   },
   "outputs": [
    {
     "data": {
      "text/plain": [
       "dict_keys(['status'])"
      ]
     },
     "execution_count": 63,
     "metadata": {},
     "output_type": "execute_result"
    }
   ],
   "source": [
    "status = [] \n",
    "for s in range(len(arrival_data)):\n",
    "  if arrival_data[s]['status'] is None:\n",
    "    status.append(\"none\")\n",
    "  else:\n",
    "    status.append(arrival_data[s]['status'])\n",
    "\n",
    "flight_status = {'status':[]}\n",
    "flight_status['status'] += status\n",
    "flight_status.keys()"
   ]
  },
  {
   "cell_type": "code",
   "execution_count": 61,
   "metadata": {
    "colab": {
     "base_uri": "https://localhost:8080/"
    },
    "id": "jX5KXwepIA4L",
    "outputId": "b313a00a-75e2-4445-e192-4ae5581f3c16"
   },
   "outputs": [
    {
     "data": {
      "text/plain": [
       "['Expected', 'Expected', 'Expected', 'Expected', 'Expected']"
      ]
     },
     "execution_count": 61,
     "metadata": {},
     "output_type": "execute_result"
    }
   ],
   "source": [
    "status[-6:-1]"
   ]
  },
  {
   "cell_type": "markdown",
   "metadata": {
    "id": "lp_nrl4eFB4D"
   },
   "source": [
    "## Departure Airport"
   ]
  },
  {
   "cell_type": "code",
   "execution_count": 23,
   "metadata": {
    "colab": {
     "base_uri": "https://localhost:8080/",
     "height": 35
    },
    "id": "WKYTka_JFFoW",
    "outputId": "1c88ae5d-50cb-44c8-ef31-1ca5206056af"
   },
   "outputs": [
    {
     "data": {
      "application/vnd.google.colaboratory.intrinsic+json": {
       "type": "string"
      },
      "text/plain": [
       "'Paris'"
      ]
     },
     "execution_count": 23,
     "metadata": {},
     "output_type": "execute_result"
    }
   ],
   "source": [
    "arrival_data[0]['departure']['airport']['name']"
   ]
  },
  {
   "cell_type": "code",
   "execution_count": 64,
   "metadata": {
    "colab": {
     "base_uri": "https://localhost:8080/"
    },
    "id": "49auXybmFxov",
    "outputId": "ca7c124f-683c-471f-b005-d1dd930793f7"
   },
   "outputs": [
    {
     "data": {
      "text/plain": [
       "dict_keys(['departure_airport'])"
      ]
     },
     "execution_count": 64,
     "metadata": {},
     "output_type": "execute_result"
    }
   ],
   "source": [
    "departure_city = [] \n",
    "for name in range(len(arrival_data)):\n",
    "  if arrival_data[name]['departure']['airport']['name'] is None:\n",
    "    departure_city.append(\"none\")\n",
    "  else:\n",
    "    departure_city.append(arrival_data[name]['departure']['airport']['name'])\n",
    "\n",
    "dep = {'departure_airport':[]}\n",
    "dep['departure_airport'] += departure_city\n",
    "dep.keys()"
   ]
  },
  {
   "cell_type": "code",
   "execution_count": 66,
   "metadata": {
    "id": "jpbC1jhfZfsG"
   },
   "outputs": [],
   "source": [
    "#dep"
   ]
  },
  {
   "cell_type": "code",
   "execution_count": 26,
   "metadata": {
    "id": "0CqXHltzGNfN"
   },
   "outputs": [],
   "source": [
    "#departure_city"
   ]
  },
  {
   "cell_type": "markdown",
   "metadata": {
    "id": "0YQZW_ebGSIu"
   },
   "source": [
    "## Flight Number"
   ]
  },
  {
   "cell_type": "code",
   "execution_count": 29,
   "metadata": {
    "colab": {
     "base_uri": "https://localhost:8080/",
     "height": 35
    },
    "id": "ibFKR7oBGRYa",
    "outputId": "39532c35-b2c5-4faf-e481-1c557f4048bc"
   },
   "outputs": [
    {
     "data": {
      "application/vnd.google.colaboratory.intrinsic+json": {
       "type": "string"
      },
      "text/plain": [
       "'AF 1240'"
      ]
     },
     "execution_count": 29,
     "metadata": {},
     "output_type": "execute_result"
    }
   ],
   "source": [
    "arrival_data[0]['number']"
   ]
  },
  {
   "cell_type": "code",
   "execution_count": 67,
   "metadata": {
    "colab": {
     "base_uri": "https://localhost:8080/"
    },
    "id": "P9hpOEy4GzFJ",
    "outputId": "0ca255bb-5a21-46f2-b629-4524a1a706ff"
   },
   "outputs": [
    {
     "data": {
      "text/plain": [
       "dict_keys(['flight_number'])"
      ]
     },
     "execution_count": 67,
     "metadata": {},
     "output_type": "execute_result"
    }
   ],
   "source": [
    "flight_number = [] \n",
    "for number in range(len(arrival_data)):\n",
    "  if arrival_data[number]['number'] is None:\n",
    "    flight_number.append(\"none\")\n",
    "  else:\n",
    "    flight_number.append(arrival_data[number]['number'])\n",
    "num = {'flight_number':[]}\n",
    "num['flight_number'] += flight_number\n",
    "num.keys()"
   ]
  },
  {
   "cell_type": "code",
   "execution_count": 31,
   "metadata": {
    "colab": {
     "base_uri": "https://localhost:8080/"
    },
    "id": "f3JKJuFcHIHG",
    "outputId": "81ef1199-36e8-4082-fa14-6aacaf9b704a"
   },
   "outputs": [
    {
     "data": {
      "text/plain": [
       "['AF 3126', 'AF 3193', 'AF 5132', 'AF 5199', 'AF 5597']"
      ]
     },
     "execution_count": 31,
     "metadata": {},
     "output_type": "execute_result"
    }
   ],
   "source": [
    "flight_number[1:6]"
   ]
  },
  {
   "cell_type": "code",
   "execution_count": 69,
   "metadata": {
    "id": "u0wCd8U_Z0WV"
   },
   "outputs": [],
   "source": [
    "#num"
   ]
  },
  {
   "cell_type": "markdown",
   "metadata": {
    "id": "FDfTO-TXRomR"
   },
   "source": [
    "## Flights Name"
   ]
  },
  {
   "cell_type": "code",
   "execution_count": 73,
   "metadata": {
    "colab": {
     "base_uri": "https://localhost:8080/"
    },
    "id": "ci9fE3lHRtR8",
    "outputId": "80b6af9c-25df-4863-8af3-a69d93b2abb5"
   },
   "outputs": [
    {
     "data": {
      "text/plain": [
       "{'departure': {'airport': {'icao': 'LFPG', 'iata': 'CDG', 'name': 'Paris'},\n",
       "  'scheduledTimeLocal': '2022-11-04 07:10+01:00',\n",
       "  'scheduledTimeUtc': '2022-11-04 06:10Z',\n",
       "  'terminal': '2F',\n",
       "  'quality': ['Basic']},\n",
       " 'arrival': {'scheduledTimeLocal': '2022-11-04 08:35+01:00',\n",
       "  'actualTimeLocal': '2022-11-04 08:27+01:00',\n",
       "  'runwayTimeLocal': '2022-11-04 08:27+01:00',\n",
       "  'scheduledTimeUtc': '2022-11-04 07:35Z',\n",
       "  'actualTimeUtc': '2022-11-04 07:27Z',\n",
       "  'runwayTimeUtc': '2022-11-04 07:27Z',\n",
       "  'quality': ['Basic', 'Live']},\n",
       " 'number': 'AF 1240',\n",
       " 'status': 'Expected',\n",
       " 'codeshareStatus': 'IsOperator',\n",
       " 'isCargo': False,\n",
       " 'aircraft': {'model': 'Airbus A321'},\n",
       " 'airline': {'name': 'Air France'}}"
      ]
     },
     "execution_count": 73,
     "metadata": {},
     "output_type": "execute_result"
    }
   ],
   "source": [
    "arrival_data = flight_data['arrivals']\n",
    "arrival_data[0]"
   ]
  },
  {
   "cell_type": "code",
   "execution_count": 77,
   "metadata": {
    "colab": {
     "base_uri": "https://localhost:8080/"
    },
    "id": "cMsBk2fNSa19",
    "outputId": "c2c19f3f-693d-401f-b5e9-ea6b05837bee"
   },
   "outputs": [
    {
     "data": {
      "text/plain": [
       "{'name': 'Air France'}"
      ]
     },
     "execution_count": 77,
     "metadata": {},
     "output_type": "execute_result"
    }
   ],
   "source": [
    "arrival_data[0]['airline']"
   ]
  },
  {
   "cell_type": "code",
   "execution_count": 76,
   "metadata": {
    "colab": {
     "base_uri": "https://localhost:8080/"
    },
    "id": "rWZ1X5W6SHYS",
    "outputId": "42fc9b78-d2ec-49a2-e25e-0a275fc48300"
   },
   "outputs": [
    {
     "data": {
      "text/plain": [
       "dict"
      ]
     },
     "execution_count": 76,
     "metadata": {},
     "output_type": "execute_result"
    }
   ],
   "source": [
    "type(arrival_data[0]['airline'])"
   ]
  },
  {
   "cell_type": "code",
   "execution_count": 86,
   "metadata": {
    "colab": {
     "base_uri": "https://localhost:8080/",
     "height": 35
    },
    "id": "JsCBzR6tSY8O",
    "outputId": "018bd52e-a843-489b-ce12-6608597ac4e8"
   },
   "outputs": [
    {
     "data": {
      "application/vnd.google.colaboratory.intrinsic+json": {
       "type": "string"
      },
      "text/plain": [
       "'Air France'"
      ]
     },
     "execution_count": 86,
     "metadata": {},
     "output_type": "execute_result"
    }
   ],
   "source": [
    "airline = list(arrival_data[0]['airline'].values())[0]\n",
    "airline"
   ]
  },
  {
   "cell_type": "markdown",
   "metadata": {
    "id": "RxXJFNVTcP98"
   },
   "source": [
    "### List"
   ]
  },
  {
   "cell_type": "code",
   "execution_count": 70,
   "metadata": {
    "colab": {
     "base_uri": "https://localhost:8080/"
    },
    "id": "pxubwTYwTgc-",
    "outputId": "577fbcef-6e44-47ad-c795-9c1ce1b82393"
   },
   "outputs": [
    {
     "data": {
      "text/plain": [
       "dict_keys(['Airline'])"
      ]
     },
     "execution_count": 70,
     "metadata": {},
     "output_type": "execute_result"
    }
   ],
   "source": [
    "airline_data = [] \n",
    "for name in range(len(arrival_data)):\n",
    "  if list(arrival_data[name]['airline'].values())[0] is None:\n",
    "    airline_data.append(\"none\")\n",
    "  else:\n",
    "    airline_data.append(list(arrival_data[name]['airline'].values())[0])\n",
    "\n",
    "airl = {'Airline':[]}\n",
    "airl['Airline'] += airline_data\n",
    "airl.keys()\n",
    "\n",
    "#airline_data[5:12]"
   ]
  },
  {
   "cell_type": "code",
   "execution_count": 72,
   "metadata": {
    "id": "v2YumRIGaXWJ"
   },
   "outputs": [],
   "source": [
    "#airl"
   ]
  },
  {
   "cell_type": "markdown",
   "metadata": {
    "id": "RNAolEUp9JOJ"
   },
   "source": [
    "## Actual Arrival Time\n",
    "\n",
    "*   List item\n",
    "*   List item\n",
    "\n"
   ]
  },
  {
   "cell_type": "code",
   "execution_count": 87,
   "metadata": {
    "colab": {
     "base_uri": "https://localhost:8080/"
    },
    "id": "QQc-_Y2C925D",
    "outputId": "0908f7da-e36a-4ab6-f697-9ab0216af0aa"
   },
   "outputs": [
    {
     "data": {
      "text/plain": [
       "{'scheduledTimeLocal': '2022-11-04 08:05+01:00',\n",
       " 'scheduledTimeUtc': '2022-11-04 07:05Z',\n",
       " 'quality': ['Basic']}"
      ]
     },
     "execution_count": 87,
     "metadata": {},
     "output_type": "execute_result"
    }
   ],
   "source": [
    "arrival_data[214]['arrival']"
   ]
  },
  {
   "cell_type": "code",
   "execution_count": 66,
   "metadata": {
    "colab": {
     "base_uri": "https://localhost:8080/"
    },
    "id": "hzqzESXw7sFv",
    "outputId": "9c0bb670-4081-4f31-e72f-9639b5d9efc0"
   },
   "outputs": [
    {
     "data": {
      "text/plain": [
       "['2022-11-04 08:27+01:00']"
      ]
     },
     "execution_count": 66,
     "metadata": {},
     "output_type": "execute_result"
    }
   ],
   "source": [
    "actual_time = []\n",
    "actual_time.append(arrival_data[216]['arrival']['actualTimeLocal'])\n",
    "actual_time"
   ]
  },
  {
   "cell_type": "code",
   "execution_count": 67,
   "metadata": {
    "colab": {
     "base_uri": "https://localhost:8080/"
    },
    "id": "cukywbOE-z2q",
    "outputId": "cc6827e7-45ca-4275-8442-31588f0c6913"
   },
   "outputs": [
    {
     "data": {
      "text/plain": [
       "1446"
      ]
     },
     "execution_count": 67,
     "metadata": {},
     "output_type": "execute_result"
    }
   ],
   "source": [
    "len(arrival_data)"
   ]
  },
  {
   "cell_type": "code",
   "execution_count": 73,
   "metadata": {
    "id": "M-Vht9EU9glE"
   },
   "outputs": [],
   "source": [
    "actual_time = [] \n",
    "#if id is None:\n",
    "#           id_list.append(\"No Form Found\")\n",
    "#        else:\n",
    " #           id_list.append(id.get(\"id\"))\n",
    "for i in range(214):\n",
    "  if arrival_data[i]['arrival']['actualTimeLocal'] is None:\n",
    "    actual_time.append(0)\n",
    "  else:\n",
    "    actual_time.append(arrival_data[i]['arrival']['actualTimeLocal'])\n",
    "\n",
    "\n"
   ]
  },
  {
   "cell_type": "markdown",
   "metadata": {
    "id": "8DYr2fOT8wtU"
   },
   "source": [
    "## Schedulded Arrival Time"
   ]
  },
  {
   "cell_type": "code",
   "execution_count": 74,
   "metadata": {
    "colab": {
     "base_uri": "https://localhost:8080/"
    },
    "id": "EN-v742L7LEJ",
    "outputId": "2b75c594-1f2c-4309-dbbe-9c041e9c5119"
   },
   "outputs": [
    {
     "data": {
      "text/plain": [
       "dict_keys(['Arrival_Time'])"
      ]
     },
     "execution_count": 74,
     "metadata": {},
     "output_type": "execute_result"
    }
   ],
   "source": [
    "schedulded_time = [] \n",
    "for time in range(len(arrival_data)):\n",
    "  schedulded_time.append(arrival_data[time]['arrival']['scheduledTimeLocal'])\n",
    "\n",
    "schedulded_time[1:6]\n",
    "\n",
    "time = {'Arrival_Time':[]}\n",
    "time['Arrival_Time'] += schedulded_time\n",
    "time.keys()"
   ]
  },
  {
   "cell_type": "code",
   "execution_count": 76,
   "metadata": {
    "id": "-KR7b_nBayu6"
   },
   "outputs": [],
   "source": [
    "#time"
   ]
  },
  {
   "cell_type": "markdown",
   "metadata": {
    "id": "_6UTjtACb0Ki"
   },
   "source": [
    "## Make A Dataframe"
   ]
  },
  {
   "cell_type": "markdown",
   "metadata": {
    "id": "XEdFFvSKb92f"
   },
   "source": [
    "1. Schedulded_Arrival: schedulded_time \n",
    "2. arrival_terminal\n",
    "3. Departure_City: departure_city\n",
    "4. Airline_name: airline_data \n",
    "5. Flight_number: flight_number \n",
    "6. Status: status"
   ]
  },
  {
   "cell_type": "markdown",
   "metadata": {
    "id": "umOWjR6f19UT"
   },
   "source": [
    "        \n",
    "departures_df = pd.DataFrame({\n",
    "    'Type': De_Type,\n",
    "    'Departure_Time' : De_Departure_Time,\n",
    "    'Destination_Name' : De_Destination_Name,\n",
    "    'Status' : De_Status,\n",
    "\n",
    "})"
   ]
  },
  {
   "cell_type": "code",
   "execution_count": 131,
   "metadata": {
    "id": "lScagEjEb5_U"
   },
   "outputs": [],
   "source": [
    "flights = pd.DataFrame ({ 'schedulded_arrival':schedulded_time,\n",
    "                      'departure_city':departure_city,\n",
    "                      'airline_name': airline_data,\n",
    "                      'flight_number': flight_number,\n",
    "                      'status': status\n",
    "                          })"
   ]
  },
  {
   "cell_type": "code",
   "execution_count": 133,
   "metadata": {
    "colab": {
     "base_uri": "https://localhost:8080/",
     "height": 424
    },
    "id": "qVu9McDM2zHb",
    "outputId": "fd316a05-aeb6-4a52-d5c7-99cf37f08504"
   },
   "outputs": [
    {
     "data": {
      "text/html": [
       "\n",
       "  <div id=\"df-7c338705-4cae-49a6-bd0e-ef75af20d399\">\n",
       "    <div class=\"colab-df-container\">\n",
       "      <div>\n",
       "<style scoped>\n",
       "    .dataframe tbody tr th:only-of-type {\n",
       "        vertical-align: middle;\n",
       "    }\n",
       "\n",
       "    .dataframe tbody tr th {\n",
       "        vertical-align: top;\n",
       "    }\n",
       "\n",
       "    .dataframe thead th {\n",
       "        text-align: right;\n",
       "    }\n",
       "</style>\n",
       "<table border=\"1\" class=\"dataframe\">\n",
       "  <thead>\n",
       "    <tr style=\"text-align: right;\">\n",
       "      <th></th>\n",
       "      <th>schedulded_arrival</th>\n",
       "      <th>departure_city</th>\n",
       "      <th>airline_name</th>\n",
       "      <th>flight_number</th>\n",
       "      <th>status</th>\n",
       "    </tr>\n",
       "  </thead>\n",
       "  <tbody>\n",
       "    <tr>\n",
       "      <th>0</th>\n",
       "      <td>2022-11-04 08:35+01:00</td>\n",
       "      <td>Paris</td>\n",
       "      <td>Air France</td>\n",
       "      <td>AF 1240</td>\n",
       "      <td>Expected</td>\n",
       "    </tr>\n",
       "    <tr>\n",
       "      <th>1</th>\n",
       "      <td>2022-11-04 08:15+01:00</td>\n",
       "      <td>Bangalore</td>\n",
       "      <td>Air France</td>\n",
       "      <td>AF 3126</td>\n",
       "      <td>Expected</td>\n",
       "    </tr>\n",
       "    <tr>\n",
       "      <th>2</th>\n",
       "      <td>2022-11-04 08:10+01:00</td>\n",
       "      <td>Norwich</td>\n",
       "      <td>Air France</td>\n",
       "      <td>AF 3193</td>\n",
       "      <td>Expected</td>\n",
       "    </tr>\n",
       "    <tr>\n",
       "      <th>3</th>\n",
       "      <td>2022-11-04 08:20+01:00</td>\n",
       "      <td>Leeds</td>\n",
       "      <td>Air France</td>\n",
       "      <td>AF 5132</td>\n",
       "      <td>Expected</td>\n",
       "    </tr>\n",
       "    <tr>\n",
       "      <th>4</th>\n",
       "      <td>2022-11-04 08:20+01:00</td>\n",
       "      <td>Bristol</td>\n",
       "      <td>Air France</td>\n",
       "      <td>AF 5199</td>\n",
       "      <td>Expected</td>\n",
       "    </tr>\n",
       "    <tr>\n",
       "      <th>...</th>\n",
       "      <td>...</td>\n",
       "      <td>...</td>\n",
       "      <td>...</td>\n",
       "      <td>...</td>\n",
       "      <td>...</td>\n",
       "    </tr>\n",
       "    <tr>\n",
       "      <th>1441</th>\n",
       "      <td>2022-11-04 20:00+01:00</td>\n",
       "      <td>Paris</td>\n",
       "      <td>Xiamen</td>\n",
       "      <td>MF 9754</td>\n",
       "      <td>Expected</td>\n",
       "    </tr>\n",
       "    <tr>\n",
       "      <th>1442</th>\n",
       "      <td>2022-11-04 20:05+01:00</td>\n",
       "      <td>Dublin</td>\n",
       "      <td>Xiamen</td>\n",
       "      <td>MF 9998</td>\n",
       "      <td>Expected</td>\n",
       "    </tr>\n",
       "    <tr>\n",
       "      <th>1443</th>\n",
       "      <td>2022-11-04 20:00+01:00</td>\n",
       "      <td>Gdańsk</td>\n",
       "      <td>KLM</td>\n",
       "      <td>KL 1922</td>\n",
       "      <td>Expected</td>\n",
       "    </tr>\n",
       "    <tr>\n",
       "      <th>1444</th>\n",
       "      <td>2022-11-04 20:05+01:00</td>\n",
       "      <td>Dublin</td>\n",
       "      <td>KLM</td>\n",
       "      <td>KL 938</td>\n",
       "      <td>Expected</td>\n",
       "    </tr>\n",
       "    <tr>\n",
       "      <th>1445</th>\n",
       "      <td>2022-11-04 20:00+01:00</td>\n",
       "      <td>Aberdeen</td>\n",
       "      <td>Virgin Atlantic</td>\n",
       "      <td>VS 6950</td>\n",
       "      <td>Expected</td>\n",
       "    </tr>\n",
       "  </tbody>\n",
       "</table>\n",
       "<p>1446 rows × 5 columns</p>\n",
       "</div>\n",
       "      <button class=\"colab-df-convert\" onclick=\"convertToInteractive('df-7c338705-4cae-49a6-bd0e-ef75af20d399')\"\n",
       "              title=\"Convert this dataframe to an interactive table.\"\n",
       "              style=\"display:none;\">\n",
       "        \n",
       "  <svg xmlns=\"http://www.w3.org/2000/svg\" height=\"24px\"viewBox=\"0 0 24 24\"\n",
       "       width=\"24px\">\n",
       "    <path d=\"M0 0h24v24H0V0z\" fill=\"none\"/>\n",
       "    <path d=\"M18.56 5.44l.94 2.06.94-2.06 2.06-.94-2.06-.94-.94-2.06-.94 2.06-2.06.94zm-11 1L8.5 8.5l.94-2.06 2.06-.94-2.06-.94L8.5 2.5l-.94 2.06-2.06.94zm10 10l.94 2.06.94-2.06 2.06-.94-2.06-.94-.94-2.06-.94 2.06-2.06.94z\"/><path d=\"M17.41 7.96l-1.37-1.37c-.4-.4-.92-.59-1.43-.59-.52 0-1.04.2-1.43.59L10.3 9.45l-7.72 7.72c-.78.78-.78 2.05 0 2.83L4 21.41c.39.39.9.59 1.41.59.51 0 1.02-.2 1.41-.59l7.78-7.78 2.81-2.81c.8-.78.8-2.07 0-2.86zM5.41 20L4 18.59l7.72-7.72 1.47 1.35L5.41 20z\"/>\n",
       "  </svg>\n",
       "      </button>\n",
       "      \n",
       "  <style>\n",
       "    .colab-df-container {\n",
       "      display:flex;\n",
       "      flex-wrap:wrap;\n",
       "      gap: 12px;\n",
       "    }\n",
       "\n",
       "    .colab-df-convert {\n",
       "      background-color: #E8F0FE;\n",
       "      border: none;\n",
       "      border-radius: 50%;\n",
       "      cursor: pointer;\n",
       "      display: none;\n",
       "      fill: #1967D2;\n",
       "      height: 32px;\n",
       "      padding: 0 0 0 0;\n",
       "      width: 32px;\n",
       "    }\n",
       "\n",
       "    .colab-df-convert:hover {\n",
       "      background-color: #E2EBFA;\n",
       "      box-shadow: 0px 1px 2px rgba(60, 64, 67, 0.3), 0px 1px 3px 1px rgba(60, 64, 67, 0.15);\n",
       "      fill: #174EA6;\n",
       "    }\n",
       "\n",
       "    [theme=dark] .colab-df-convert {\n",
       "      background-color: #3B4455;\n",
       "      fill: #D2E3FC;\n",
       "    }\n",
       "\n",
       "    [theme=dark] .colab-df-convert:hover {\n",
       "      background-color: #434B5C;\n",
       "      box-shadow: 0px 1px 3px 1px rgba(0, 0, 0, 0.15);\n",
       "      filter: drop-shadow(0px 1px 2px rgba(0, 0, 0, 0.3));\n",
       "      fill: #FFFFFF;\n",
       "    }\n",
       "  </style>\n",
       "\n",
       "      <script>\n",
       "        const buttonEl =\n",
       "          document.querySelector('#df-7c338705-4cae-49a6-bd0e-ef75af20d399 button.colab-df-convert');\n",
       "        buttonEl.style.display =\n",
       "          google.colab.kernel.accessAllowed ? 'block' : 'none';\n",
       "\n",
       "        async function convertToInteractive(key) {\n",
       "          const element = document.querySelector('#df-7c338705-4cae-49a6-bd0e-ef75af20d399');\n",
       "          const dataTable =\n",
       "            await google.colab.kernel.invokeFunction('convertToInteractive',\n",
       "                                                     [key], {});\n",
       "          if (!dataTable) return;\n",
       "\n",
       "          const docLinkHtml = 'Like what you see? Visit the ' +\n",
       "            '<a target=\"_blank\" href=https://colab.research.google.com/notebooks/data_table.ipynb>data table notebook</a>'\n",
       "            + ' to learn more about interactive tables.';\n",
       "          element.innerHTML = '';\n",
       "          dataTable['output_type'] = 'display_data';\n",
       "          await google.colab.output.renderOutput(dataTable, element);\n",
       "          const docLink = document.createElement('div');\n",
       "          docLink.innerHTML = docLinkHtml;\n",
       "          element.appendChild(docLink);\n",
       "        }\n",
       "      </script>\n",
       "    </div>\n",
       "  </div>\n",
       "  "
      ],
      "text/plain": [
       "          schedulded_arrival departure_city     airline_name flight_number  \\\n",
       "0     2022-11-04 08:35+01:00          Paris       Air France       AF 1240   \n",
       "1     2022-11-04 08:15+01:00      Bangalore       Air France       AF 3126   \n",
       "2     2022-11-04 08:10+01:00        Norwich       Air France       AF 3193   \n",
       "3     2022-11-04 08:20+01:00          Leeds       Air France       AF 5132   \n",
       "4     2022-11-04 08:20+01:00        Bristol       Air France       AF 5199   \n",
       "...                      ...            ...              ...           ...   \n",
       "1441  2022-11-04 20:00+01:00          Paris           Xiamen       MF 9754   \n",
       "1442  2022-11-04 20:05+01:00         Dublin           Xiamen       MF 9998   \n",
       "1443  2022-11-04 20:00+01:00         Gdańsk              KLM       KL 1922   \n",
       "1444  2022-11-04 20:05+01:00         Dublin              KLM        KL 938   \n",
       "1445  2022-11-04 20:00+01:00       Aberdeen  Virgin Atlantic       VS 6950   \n",
       "\n",
       "        status  \n",
       "0     Expected  \n",
       "1     Expected  \n",
       "2     Expected  \n",
       "3     Expected  \n",
       "4     Expected  \n",
       "...        ...  \n",
       "1441  Expected  \n",
       "1442  Expected  \n",
       "1443  Expected  \n",
       "1444  Expected  \n",
       "1445  Expected  \n",
       "\n",
       "[1446 rows x 5 columns]"
      ]
     },
     "execution_count": 133,
     "metadata": {},
     "output_type": "execute_result"
    }
   ],
   "source": [
    "flights"
   ]
  },
  {
   "cell_type": "markdown",
   "metadata": {
    "id": "Tw6PCI_6ADN2"
   },
   "source": [
    "## For loop for data collection of arrival\n"
   ]
  },
  {
   "cell_type": "code",
   "execution_count": 13,
   "metadata": {
    "id": "_72JbnivACt2"
   },
   "outputs": [
    {
     "ename": "NameError",
     "evalue": "name 'arrival_data' is not defined",
     "output_type": "error",
     "traceback": [
      "\u001b[1;31m---------------------------------------------------------------------------\u001b[0m",
      "\u001b[1;31mNameError\u001b[0m                                 Traceback (most recent call last)",
      "Input \u001b[1;32mIn [13]\u001b[0m, in \u001b[0;36m<cell line: 2>\u001b[1;34m()\u001b[0m\n\u001b[0;32m      1\u001b[0m schedulded_time \u001b[38;5;241m=\u001b[39m [] \n\u001b[1;32m----> 2\u001b[0m \u001b[38;5;28;01mfor\u001b[39;00m time \u001b[38;5;129;01min\u001b[39;00m \u001b[38;5;28mrange\u001b[39m(\u001b[38;5;28mlen\u001b[39m(\u001b[43marrival_data\u001b[49m)):\n\u001b[0;32m      3\u001b[0m   schedulded_time\u001b[38;5;241m.\u001b[39mappend(arrival_data[time][\u001b[38;5;124m'\u001b[39m\u001b[38;5;124marrival\u001b[39m\u001b[38;5;124m'\u001b[39m][\u001b[38;5;124m'\u001b[39m\u001b[38;5;124mscheduledTimeLocal\u001b[39m\u001b[38;5;124m'\u001b[39m])\n\u001b[0;32m      6\u001b[0m airline_data \u001b[38;5;241m=\u001b[39m [] \n",
      "\u001b[1;31mNameError\u001b[0m: name 'arrival_data' is not defined"
     ]
    }
   ],
   "source": [
    "schedulded_time = [] \n",
    "for time in range(len(arrival_data)):\n",
    "  schedulded_time.append(arrival_data[time]['arrival']['scheduledTimeLocal'])\n",
    "\n",
    "\n",
    "airline_data = [] \n",
    "for name in range(len(arrival_data)):\n",
    "  if list(arrival_data[name]['airline'].values())[0] is None:\n",
    "    airline_data.append(\"none\")\n",
    "  else:\n",
    "    airline_data.append(list(arrival_data[name]['airline'].values())[0])\n",
    "\n",
    "departure_city = [] \n",
    "for name in range(len(arrival_data)):\n",
    "  if arrival_data[name]['departure']['airport']['name'] is None:\n",
    "    departure_city.append(\"none\")\n",
    "  else:\n",
    "    departure_city.append(arrival_data[name]['departure']['airport']['name'])\n",
    "\n",
    "status = [] \n",
    "for s in range(len(arrival_data)):\n",
    "  if arrival_data[s]['status'] is None:\n",
    "    status.append(\"none\")\n",
    "  else:\n",
    "    status.append(arrival_data[s]['status'])\n",
    "\n",
    "flight_number = [] \n",
    "for number in range(len(arrival_data)):\n",
    "  if arrival_data[number]['number'] is None:\n",
    "    flight_number.append(\"none\")\n",
    "  else:\n",
    "    flight_number.append(arrival_data[number]['number'])\n"
   ]
  },
  {
   "cell_type": "code",
   "execution_count": 136,
   "metadata": {
    "id": "6gPRHWSXA0FX"
   },
   "outputs": [],
   "source": [
    "schedulded_time = [] \n",
    "departure_city = [] \n",
    "airline_data = [] \n",
    "flight_number = []\n",
    "status = [] \n",
    "\n",
    "for i in range(len(arrival_data)):\n",
    "  schedulded_time.append(arrival_data[i]['arrival']['scheduledTimeLocal'])\n",
    "  departure_city.append(arrival_data[i]['departure']['airport']['name'])\n",
    "  airline_data.append(list(arrival_data[i]['airline'].values())[0])\n",
    "  flight_number.append(arrival_data[i]['number'])\n",
    "  status.append(arrival_data[i]['status'])\n",
    "\n",
    "\n"
   ]
  },
  {
   "cell_type": "code",
   "execution_count": 147,
   "metadata": {
    "colab": {
     "base_uri": "https://localhost:8080/",
     "height": 35
    },
    "id": "NhagJiTxPZgQ",
    "outputId": "60fd0566-d8fe-4261-ba49-871048a77bc9"
   },
   "outputs": [
    {
     "data": {
      "application/vnd.google.colaboratory.intrinsic+json": {
       "type": "string"
      },
      "text/plain": [
       "'EFHK'"
      ]
     },
     "execution_count": 147,
     "metadata": {},
     "output_type": "execute_result"
    }
   ],
   "source": [
    "arrival_data[0]['departure']['airport']['icao']"
   ]
  },
  {
   "cell_type": "code",
   "execution_count": 153,
   "metadata": {
    "colab": {
     "base_uri": "https://localhost:8080/",
     "height": 81
    },
    "id": "7wCbXmj9MW3l",
    "outputId": "d6b991c5-8efc-4afc-8737-d4628b6d3f01"
   },
   "outputs": [
    {
     "data": {
      "text/html": [
       "\n",
       "  <div id=\"df-984880b0-1ccb-4f37-bfd0-c667d4aa450a\">\n",
       "    <div class=\"colab-df-container\">\n",
       "      <div>\n",
       "<style scoped>\n",
       "    .dataframe tbody tr th:only-of-type {\n",
       "        vertical-align: middle;\n",
       "    }\n",
       "\n",
       "    .dataframe tbody tr th {\n",
       "        vertical-align: top;\n",
       "    }\n",
       "\n",
       "    .dataframe thead th {\n",
       "        text-align: right;\n",
       "    }\n",
       "</style>\n",
       "<table border=\"1\" class=\"dataframe\">\n",
       "  <thead>\n",
       "    <tr style=\"text-align: right;\">\n",
       "      <th></th>\n",
       "      <th>arrival_icao</th>\n",
       "      <th>schedulded_arrival</th>\n",
       "      <th>departure_city</th>\n",
       "      <th>departure_icao</th>\n",
       "      <th>airline_name</th>\n",
       "      <th>flight_number</th>\n",
       "      <th>status</th>\n",
       "    </tr>\n",
       "  </thead>\n",
       "  <tbody>\n",
       "    <tr>\n",
       "      <th>0</th>\n",
       "      <td>EDDB</td>\n",
       "      <td>2022-11-04 10:50+01:00</td>\n",
       "      <td>Athens</td>\n",
       "      <td>LGAV</td>\n",
       "      <td>Aegean</td>\n",
       "      <td>A3 820</td>\n",
       "      <td>Unknown</td>\n",
       "    </tr>\n",
       "  </tbody>\n",
       "</table>\n",
       "</div>\n",
       "      <button class=\"colab-df-convert\" onclick=\"convertToInteractive('df-984880b0-1ccb-4f37-bfd0-c667d4aa450a')\"\n",
       "              title=\"Convert this dataframe to an interactive table.\"\n",
       "              style=\"display:none;\">\n",
       "        \n",
       "  <svg xmlns=\"http://www.w3.org/2000/svg\" height=\"24px\"viewBox=\"0 0 24 24\"\n",
       "       width=\"24px\">\n",
       "    <path d=\"M0 0h24v24H0V0z\" fill=\"none\"/>\n",
       "    <path d=\"M18.56 5.44l.94 2.06.94-2.06 2.06-.94-2.06-.94-.94-2.06-.94 2.06-2.06.94zm-11 1L8.5 8.5l.94-2.06 2.06-.94-2.06-.94L8.5 2.5l-.94 2.06-2.06.94zm10 10l.94 2.06.94-2.06 2.06-.94-2.06-.94-.94-2.06-.94 2.06-2.06.94z\"/><path d=\"M17.41 7.96l-1.37-1.37c-.4-.4-.92-.59-1.43-.59-.52 0-1.04.2-1.43.59L10.3 9.45l-7.72 7.72c-.78.78-.78 2.05 0 2.83L4 21.41c.39.39.9.59 1.41.59.51 0 1.02-.2 1.41-.59l7.78-7.78 2.81-2.81c.8-.78.8-2.07 0-2.86zM5.41 20L4 18.59l7.72-7.72 1.47 1.35L5.41 20z\"/>\n",
       "  </svg>\n",
       "      </button>\n",
       "      \n",
       "  <style>\n",
       "    .colab-df-container {\n",
       "      display:flex;\n",
       "      flex-wrap:wrap;\n",
       "      gap: 12px;\n",
       "    }\n",
       "\n",
       "    .colab-df-convert {\n",
       "      background-color: #E8F0FE;\n",
       "      border: none;\n",
       "      border-radius: 50%;\n",
       "      cursor: pointer;\n",
       "      display: none;\n",
       "      fill: #1967D2;\n",
       "      height: 32px;\n",
       "      padding: 0 0 0 0;\n",
       "      width: 32px;\n",
       "    }\n",
       "\n",
       "    .colab-df-convert:hover {\n",
       "      background-color: #E2EBFA;\n",
       "      box-shadow: 0px 1px 2px rgba(60, 64, 67, 0.3), 0px 1px 3px 1px rgba(60, 64, 67, 0.15);\n",
       "      fill: #174EA6;\n",
       "    }\n",
       "\n",
       "    [theme=dark] .colab-df-convert {\n",
       "      background-color: #3B4455;\n",
       "      fill: #D2E3FC;\n",
       "    }\n",
       "\n",
       "    [theme=dark] .colab-df-convert:hover {\n",
       "      background-color: #434B5C;\n",
       "      box-shadow: 0px 1px 3px 1px rgba(0, 0, 0, 0.15);\n",
       "      filter: drop-shadow(0px 1px 2px rgba(0, 0, 0, 0.3));\n",
       "      fill: #FFFFFF;\n",
       "    }\n",
       "  </style>\n",
       "\n",
       "      <script>\n",
       "        const buttonEl =\n",
       "          document.querySelector('#df-984880b0-1ccb-4f37-bfd0-c667d4aa450a button.colab-df-convert');\n",
       "        buttonEl.style.display =\n",
       "          google.colab.kernel.accessAllowed ? 'block' : 'none';\n",
       "\n",
       "        async function convertToInteractive(key) {\n",
       "          const element = document.querySelector('#df-984880b0-1ccb-4f37-bfd0-c667d4aa450a');\n",
       "          const dataTable =\n",
       "            await google.colab.kernel.invokeFunction('convertToInteractive',\n",
       "                                                     [key], {});\n",
       "          if (!dataTable) return;\n",
       "\n",
       "          const docLinkHtml = 'Like what you see? Visit the ' +\n",
       "            '<a target=\"_blank\" href=https://colab.research.google.com/notebooks/data_table.ipynb>data table notebook</a>'\n",
       "            + ' to learn more about interactive tables.';\n",
       "          element.innerHTML = '';\n",
       "          dataTable['output_type'] = 'display_data';\n",
       "          await google.colab.output.renderOutput(dataTable, element);\n",
       "          const docLink = document.createElement('div');\n",
       "          docLink.innerHTML = docLinkHtml;\n",
       "          element.appendChild(docLink);\n",
       "        }\n",
       "      </script>\n",
       "    </div>\n",
       "  </div>\n",
       "  "
      ],
      "text/plain": [
       "  arrival_icao      schedulded_arrival departure_city departure_icao  \\\n",
       "0         EDDB  2022-11-04 10:50+01:00         Athens           LGAV   \n",
       "\n",
       "  airline_name flight_number   status  \n",
       "0       Aegean        A3 820  Unknown  "
      ]
     },
     "execution_count": 153,
     "metadata": {},
     "output_type": "execute_result"
    }
   ],
   "source": [
    "icao_list = ['EGLL', 'EDDB']\n",
    "for icao in icao_list:\n",
    "  url = f\"https://aerodatabox.p.rapidapi.com/flights/airports/icao/{icao}/2022-11-04T10:00/2022-11-04T19:59\"\n",
    "  querystring = {\"withLeg\":\"true\",\"withCancelled\":\"true\",\"withCodeshared\":\"true\",\"withCargo\":\"true\",\"withPrivate\":\"true\",\"withLocation\":\"false\"}\n",
    "  headers = {\n",
    "  \"X-RapidAPI-Key\": \"e723d7487fmsh7fce19b65c2f2eep119c33jsneeee8c0c0fc9\",\n",
    "  \"X-RapidAPI-Host\": \"aerodatabox.p.rapidapi.com\"\n",
    "  }\n",
    "  response = requests.request(\"GET\", url, headers=headers, params=querystring)\n",
    "  #print(response.text) \n",
    "\n",
    "  flight_data = response.json()\n",
    "  arrival_data = flight_data['arrivals']\n",
    "  flight_data = response.json()\n",
    "  arrival_data = flight_data['arrivals']\n",
    "    \n",
    "    \n",
    "  schedulded_time = [] \n",
    "  departure_city = [] \n",
    "  airline_data = [] \n",
    "  flight_number = []\n",
    "  status = [] \n",
    "  arrival_icao = []\n",
    "  departure_icao = []\n",
    "  for data in arrival_data:\n",
    "    arrival_icao.append(icao)\n",
    "    schedulded_time.append(data['arrival']['scheduledTimeLocal'])\n",
    "    departure_city.append(data['departure']['airport']['name'])\n",
    "    airline_data.append(list(data['airline'].values())[0])\n",
    "    flight_number.append(data['number'])\n",
    "    status.append(data['status'])\n",
    "\n",
    "    try:\n",
    "      departure_icao.append(data['departure']['airport']['icao'])\n",
    "    except:\n",
    "      departure_icao.append('none')\n",
    "\n",
    "flights = pd.DataFrame ({'arrival_icao': arrival_icao,\n",
    "                      'schedulded_arrival':schedulded_time,\n",
    "                      'departure_city':departure_city,\n",
    "                      'departure_icao': departure_icao,\n",
    "                      'airline_name': airline_data,\n",
    "                      'flight_number': flight_number,\n",
    "                      'status': status\n",
    "                          })\n",
    "\n",
    "flights.head(1)"
   ]
  },
  {
   "cell_type": "markdown",
   "metadata": {
    "id": "hmEujBn93MtH"
   },
   "source": [
    "## Clubbing the Data "
   ]
  },
  {
   "cell_type": "code",
   "execution_count": 3,
   "metadata": {
    "id": "Q9SOx21U_AYd"
   },
   "outputs": [],
   "source": [
    "import pandas as pd\n",
    "from datetime import datetime, date, timedelta\n",
    "import requests\n",
    "from pytz import timezone\n"
   ]
  },
  {
   "cell_type": "markdown",
   "metadata": {
    "id": "k7Aqy9HGR_Er"
   },
   "source": [
    "### MAIN FUNCTION"
   ]
  },
  {
   "cell_type": "code",
   "execution_count": 11,
   "metadata": {
    "id": "MX_FQiYZR-ZQ"
   },
   "outputs": [],
   "source": [
    "def tmw_flight_arrival(icao_list):\n",
    "    arrivals_list = []\n",
    "    icaos = [\"EDDB\", \"EDDH\", \"EGLL\", \"EGCC\", \"LEBL\"]\n",
    "    \n",
    "    today = datetime.now().date() # only needed on colab as the computer is sometimes in a different timezone\n",
    "    tomorrow = (today + timedelta(days=1))\n",
    "    \n",
    "    morning = {\"start_time\": \"00:00\", \"end_time\": \"12:00\"}\n",
    "    afternoon = {\"start_time\": \"12:00\", \"end_time\": \"23:59\"}\n",
    "    \n",
    "    times = [morning, afternoon]\n",
    "\n",
    "    for icao in icao_list:\n",
    "          for time in times:\n",
    "            url = f\"https://aerodatabox.p.rapidapi.com/flights/airports/icao/{icao}/{tomorrow}T{time['start_time']}/{tomorrow}T{time['end_time']}\"\n",
    "            querystring = {\"withLeg\":\"true\",\"withCancelled\":\"true\",\"withCodeshared\":\"true\",\"withCargo\":\"true\",\"withPrivate\":\"true\",\"withLocation\":\"false\"}\n",
    "            headers = {\n",
    "                  \"X-RapidAPI-Key\": \"e723d7487fmsh7fce19b65c2f2eep119c33jsneeee8c0c0fc9\",\n",
    "                  \"X-RapidAPI-Host\": \"aerodatabox.p.rapidapi.com\"\n",
    "                   }\n",
    "            response = requests.request(\"GET\", url, headers=headers, params=querystring)\n",
    "            flight_data = response.json()\n",
    "            arrival_data = flight_data['arrivals']\n",
    "          #  flight_data = response.json()\n",
    "           # arrival_data = flight_data['arrivals']\n",
    "\n",
    "\n",
    "            schedulded_time = [] \n",
    "            departure_city = [] \n",
    "            airline_data = [] \n",
    "            flight_number = []\n",
    "            status = [] \n",
    "            arrival_icao = []\n",
    "            departure_icao = []\n",
    "            for data in arrival_data:\n",
    "                arrival_icao.append(icao)\n",
    "                schedulded_time.append(data['arrival']['scheduledTimeLocal'])\n",
    "                departure_city.append(data['departure']['airport']['name'])\n",
    "                airline_data.append(list(data['airline'].values())[0])\n",
    "                flight_number.append(data['number'])\n",
    "                status.append(data['status'])\n",
    "                try:\n",
    "                    departure_icao.append(data['departure']['airport']['icao'])\n",
    "                except:\n",
    "                    departure_icao.append('none')\n",
    "\n",
    "                flights = pd.DataFrame({'arrival_icao': arrival_icao,\n",
    "                          'schedulded_arrival':schedulded_time,\n",
    "                          'departure_city':departure_city,\n",
    "                          'departure_icao': departure_icao,\n",
    "                          'airline_name': airline_data,\n",
    "                          'flight_number': flight_number,\n",
    "                          'status': status\n",
    "                              })\n",
    "\n",
    "            # CHANGING TIME TO DATETIME FORMAT\n",
    "                flights[\"schedulded_arrival\"] = pd.to_datetime(flights[\"schedulded_arrival\"])\n",
    "            arrivals_list.append(flights)\n",
    "\n",
    "\n",
    "    \n",
    "    return pd.concat(arrivals_list)\n",
    "\n",
    "flight_df = tmw_flight_arrival(icaos)\n"
   ]
  },
  {
   "cell_type": "markdown",
   "metadata": {
    "id": "VmWH9O_tVHJo"
   },
   "source": []
  },
  {
   "cell_type": "code",
   "execution_count": null,
   "metadata": {},
   "outputs": [],
   "source": []
  },
  {
   "cell_type": "code",
   "execution_count": 12,
   "metadata": {},
   "outputs": [
    {
     "data": {
      "text/html": [
       "<div>\n",
       "<style scoped>\n",
       "    .dataframe tbody tr th:only-of-type {\n",
       "        vertical-align: middle;\n",
       "    }\n",
       "\n",
       "    .dataframe tbody tr th {\n",
       "        vertical-align: top;\n",
       "    }\n",
       "\n",
       "    .dataframe thead th {\n",
       "        text-align: right;\n",
       "    }\n",
       "</style>\n",
       "<table border=\"1\" class=\"dataframe\">\n",
       "  <thead>\n",
       "    <tr style=\"text-align: right;\">\n",
       "      <th></th>\n",
       "      <th>arrival_icao</th>\n",
       "      <th>schedulded_arrival</th>\n",
       "      <th>departure_city</th>\n",
       "      <th>departure_icao</th>\n",
       "      <th>airline_name</th>\n",
       "      <th>flight_number</th>\n",
       "      <th>status</th>\n",
       "    </tr>\n",
       "  </thead>\n",
       "  <tbody>\n",
       "    <tr>\n",
       "      <th>0</th>\n",
       "      <td>EDDB</td>\n",
       "      <td>2022-11-09 06:50:00+01:00</td>\n",
       "      <td>Doha</td>\n",
       "      <td>OTHH</td>\n",
       "      <td>Qatar Airways</td>\n",
       "      <td>QR 79</td>\n",
       "      <td>Unknown</td>\n",
       "    </tr>\n",
       "    <tr>\n",
       "      <th>1</th>\n",
       "      <td>EDDB</td>\n",
       "      <td>2022-11-09 07:55:00+01:00</td>\n",
       "      <td>Riga</td>\n",
       "      <td>EVRA</td>\n",
       "      <td>Air Baltic</td>\n",
       "      <td>BT 211</td>\n",
       "      <td>Unknown</td>\n",
       "    </tr>\n",
       "    <tr>\n",
       "      <th>2</th>\n",
       "      <td>EDDB</td>\n",
       "      <td>2022-11-09 07:50:00+01:00</td>\n",
       "      <td>Stuttgart</td>\n",
       "      <td>EDDS</td>\n",
       "      <td>Eurowings</td>\n",
       "      <td>EW 2002</td>\n",
       "      <td>Unknown</td>\n",
       "    </tr>\n",
       "    <tr>\n",
       "      <th>3</th>\n",
       "      <td>EDDB</td>\n",
       "      <td>2022-11-09 07:35:00+01:00</td>\n",
       "      <td>Duesseldorf</td>\n",
       "      <td>EDDL</td>\n",
       "      <td>Eurowings</td>\n",
       "      <td>EW 9048</td>\n",
       "      <td>Unknown</td>\n",
       "    </tr>\n",
       "    <tr>\n",
       "      <th>4</th>\n",
       "      <td>EDDB</td>\n",
       "      <td>2022-11-09 07:55:00+01:00</td>\n",
       "      <td>Frankfurt-am-Main</td>\n",
       "      <td>EDDF</td>\n",
       "      <td>Lufthansa</td>\n",
       "      <td>LH 170</td>\n",
       "      <td>Unknown</td>\n",
       "    </tr>\n",
       "    <tr>\n",
       "      <th>...</th>\n",
       "      <td>...</td>\n",
       "      <td>...</td>\n",
       "      <td>...</td>\n",
       "      <td>...</td>\n",
       "      <td>...</td>\n",
       "      <td>...</td>\n",
       "      <td>...</td>\n",
       "    </tr>\n",
       "    <tr>\n",
       "      <th>492</th>\n",
       "      <td>LEBL</td>\n",
       "      <td>2022-11-09 23:55:00+01:00</td>\n",
       "      <td>Lisbon</td>\n",
       "      <td>LPPT</td>\n",
       "      <td>Vueling</td>\n",
       "      <td>VY 8463</td>\n",
       "      <td>Unknown</td>\n",
       "    </tr>\n",
       "    <tr>\n",
       "      <th>493</th>\n",
       "      <td>LEBL</td>\n",
       "      <td>2022-11-09 23:50:00+01:00</td>\n",
       "      <td>Brussels</td>\n",
       "      <td>EBBR</td>\n",
       "      <td>Vueling</td>\n",
       "      <td>VY 8985</td>\n",
       "      <td>Canceled</td>\n",
       "    </tr>\n",
       "    <tr>\n",
       "      <th>494</th>\n",
       "      <td>LEBL</td>\n",
       "      <td>2022-11-09 23:45:00+01:00</td>\n",
       "      <td>Palma De Mallorca</td>\n",
       "      <td>LEPA</td>\n",
       "      <td>Wasaya Airways</td>\n",
       "      <td>WT 223</td>\n",
       "      <td>Unknown</td>\n",
       "    </tr>\n",
       "    <tr>\n",
       "      <th>495</th>\n",
       "      <td>LEBL</td>\n",
       "      <td>2022-11-09 22:30:00+01:00</td>\n",
       "      <td>Madrid</td>\n",
       "      <td>LEMD</td>\n",
       "      <td>Vueling</td>\n",
       "      <td>VY 5091</td>\n",
       "      <td>Expected</td>\n",
       "    </tr>\n",
       "    <tr>\n",
       "      <th>496</th>\n",
       "      <td>LEBL</td>\n",
       "      <td>2022-11-09 22:45:00+01:00</td>\n",
       "      <td>Milan</td>\n",
       "      <td>LIMC</td>\n",
       "      <td>Vueling</td>\n",
       "      <td>VY 6337</td>\n",
       "      <td>Expected</td>\n",
       "    </tr>\n",
       "  </tbody>\n",
       "</table>\n",
       "<p>3128 rows × 7 columns</p>\n",
       "</div>"
      ],
      "text/plain": [
       "    arrival_icao         schedulded_arrival     departure_city departure_icao  \\\n",
       "0           EDDB  2022-11-09 06:50:00+01:00               Doha           OTHH   \n",
       "1           EDDB  2022-11-09 07:55:00+01:00               Riga           EVRA   \n",
       "2           EDDB  2022-11-09 07:50:00+01:00          Stuttgart           EDDS   \n",
       "3           EDDB  2022-11-09 07:35:00+01:00        Duesseldorf           EDDL   \n",
       "4           EDDB  2022-11-09 07:55:00+01:00  Frankfurt-am-Main           EDDF   \n",
       "..           ...                        ...                ...            ...   \n",
       "492         LEBL  2022-11-09 23:55:00+01:00             Lisbon           LPPT   \n",
       "493         LEBL  2022-11-09 23:50:00+01:00           Brussels           EBBR   \n",
       "494         LEBL  2022-11-09 23:45:00+01:00  Palma De Mallorca           LEPA   \n",
       "495         LEBL  2022-11-09 22:30:00+01:00             Madrid           LEMD   \n",
       "496         LEBL  2022-11-09 22:45:00+01:00              Milan           LIMC   \n",
       "\n",
       "       airline_name flight_number    status  \n",
       "0     Qatar Airways         QR 79   Unknown  \n",
       "1        Air Baltic        BT 211   Unknown  \n",
       "2         Eurowings       EW 2002   Unknown  \n",
       "3         Eurowings       EW 9048   Unknown  \n",
       "4         Lufthansa        LH 170   Unknown  \n",
       "..              ...           ...       ...  \n",
       "492         Vueling       VY 8463   Unknown  \n",
       "493         Vueling       VY 8985  Canceled  \n",
       "494  Wasaya Airways        WT 223   Unknown  \n",
       "495         Vueling       VY 5091  Expected  \n",
       "496         Vueling       VY 6337  Expected  \n",
       "\n",
       "[3128 rows x 7 columns]"
      ]
     },
     "execution_count": 12,
     "metadata": {},
     "output_type": "execute_result"
    }
   ],
   "source": [
    "flight_df"
   ]
  },
  {
   "cell_type": "code",
   "execution_count": 73,
   "metadata": {},
   "outputs": [],
   "source": [
    "flight_df[\"flightid\"] = flight_df.index"
   ]
  },
  {
   "cell_type": "code",
   "execution_count": 74,
   "metadata": {},
   "outputs": [],
   "source": [
    "\n",
    "flight_df  = flight_df.reindex(columns = [\"flightid\",\"arrival_icao\",\"schedulded_arrival\",\"departure_city\",\"airline_name\",\"flight_number\",\"status\"])"
   ]
  },
  {
   "cell_type": "code",
   "execution_count": 77,
   "metadata": {},
   "outputs": [
    {
     "data": {
      "text/html": [
       "<div>\n",
       "<style scoped>\n",
       "    .dataframe tbody tr th:only-of-type {\n",
       "        vertical-align: middle;\n",
       "    }\n",
       "\n",
       "    .dataframe tbody tr th {\n",
       "        vertical-align: top;\n",
       "    }\n",
       "\n",
       "    .dataframe thead th {\n",
       "        text-align: right;\n",
       "    }\n",
       "</style>\n",
       "<table border=\"1\" class=\"dataframe\">\n",
       "  <thead>\n",
       "    <tr style=\"text-align: right;\">\n",
       "      <th></th>\n",
       "      <th>flightid</th>\n",
       "      <th>arrival_icao</th>\n",
       "      <th>schedulded_arrival</th>\n",
       "      <th>departure_city</th>\n",
       "      <th>airline_name</th>\n",
       "      <th>flight_number</th>\n",
       "      <th>status</th>\n",
       "    </tr>\n",
       "  </thead>\n",
       "  <tbody>\n",
       "    <tr>\n",
       "      <th>0</th>\n",
       "      <td>0</td>\n",
       "      <td>EDDB</td>\n",
       "      <td>2022-11-08 07:30:00+01:00</td>\n",
       "      <td>Cologne</td>\n",
       "      <td>Eurowings</td>\n",
       "      <td>EW 12</td>\n",
       "      <td>Unknown</td>\n",
       "    </tr>\n",
       "    <tr>\n",
       "      <th>1</th>\n",
       "      <td>1</td>\n",
       "      <td>EDDB</td>\n",
       "      <td>2022-11-08 07:50:00+01:00</td>\n",
       "      <td>Stuttgart</td>\n",
       "      <td>Eurowings</td>\n",
       "      <td>EW 2002</td>\n",
       "      <td>Unknown</td>\n",
       "    </tr>\n",
       "    <tr>\n",
       "      <th>2</th>\n",
       "      <td>2</td>\n",
       "      <td>EDDB</td>\n",
       "      <td>2022-11-08 07:35:00+01:00</td>\n",
       "      <td>Duesseldorf</td>\n",
       "      <td>Eurowings</td>\n",
       "      <td>EW 9048</td>\n",
       "      <td>Unknown</td>\n",
       "    </tr>\n",
       "    <tr>\n",
       "      <th>3</th>\n",
       "      <td>3</td>\n",
       "      <td>EDDB</td>\n",
       "      <td>2022-11-08 07:55:00+01:00</td>\n",
       "      <td>Frankfurt-am-Main</td>\n",
       "      <td>Lufthansa</td>\n",
       "      <td>LH 170</td>\n",
       "      <td>Unknown</td>\n",
       "    </tr>\n",
       "    <tr>\n",
       "      <th>4</th>\n",
       "      <td>4</td>\n",
       "      <td>EDDB</td>\n",
       "      <td>2022-11-08 06:50:00+01:00</td>\n",
       "      <td>Doha</td>\n",
       "      <td>Qatar Airways</td>\n",
       "      <td>QR 79</td>\n",
       "      <td>Unknown</td>\n",
       "    </tr>\n",
       "    <tr>\n",
       "      <th>...</th>\n",
       "      <td>...</td>\n",
       "      <td>...</td>\n",
       "      <td>...</td>\n",
       "      <td>...</td>\n",
       "      <td>...</td>\n",
       "      <td>...</td>\n",
       "      <td>...</td>\n",
       "    </tr>\n",
       "    <tr>\n",
       "      <th>475</th>\n",
       "      <td>475</td>\n",
       "      <td>LEBL</td>\n",
       "      <td>2022-11-08 23:45:00+01:00</td>\n",
       "      <td>Palma De Mallorca</td>\n",
       "      <td>Wasaya Airways</td>\n",
       "      <td>WT 223</td>\n",
       "      <td>Unknown</td>\n",
       "    </tr>\n",
       "    <tr>\n",
       "      <th>476</th>\n",
       "      <td>476</td>\n",
       "      <td>LEBL</td>\n",
       "      <td>2022-11-08 22:30:00+01:00</td>\n",
       "      <td>Madrid</td>\n",
       "      <td>Vueling</td>\n",
       "      <td>VY 5091</td>\n",
       "      <td>Expected</td>\n",
       "    </tr>\n",
       "    <tr>\n",
       "      <th>477</th>\n",
       "      <td>477</td>\n",
       "      <td>LEBL</td>\n",
       "      <td>2022-11-08 22:45:00+01:00</td>\n",
       "      <td>Milan</td>\n",
       "      <td>Vueling</td>\n",
       "      <td>VY 6337</td>\n",
       "      <td>Expected</td>\n",
       "    </tr>\n",
       "    <tr>\n",
       "      <th>478</th>\n",
       "      <td>478</td>\n",
       "      <td>LEBL</td>\n",
       "      <td>2022-11-08 22:20:00+01:00</td>\n",
       "      <td>London</td>\n",
       "      <td>Vueling</td>\n",
       "      <td>VY 7825</td>\n",
       "      <td>Expected</td>\n",
       "    </tr>\n",
       "    <tr>\n",
       "      <th>479</th>\n",
       "      <td>479</td>\n",
       "      <td>LEBL</td>\n",
       "      <td>2022-11-08 22:55:00+01:00</td>\n",
       "      <td>Paris</td>\n",
       "      <td>Air France</td>\n",
       "      <td>AF 1448</td>\n",
       "      <td>Expected</td>\n",
       "    </tr>\n",
       "  </tbody>\n",
       "</table>\n",
       "<p>3184 rows × 7 columns</p>\n",
       "</div>"
      ],
      "text/plain": [
       "     flightid arrival_icao         schedulded_arrival     departure_city  \\\n",
       "0           0         EDDB  2022-11-08 07:30:00+01:00            Cologne   \n",
       "1           1         EDDB  2022-11-08 07:50:00+01:00          Stuttgart   \n",
       "2           2         EDDB  2022-11-08 07:35:00+01:00        Duesseldorf   \n",
       "3           3         EDDB  2022-11-08 07:55:00+01:00  Frankfurt-am-Main   \n",
       "4           4         EDDB  2022-11-08 06:50:00+01:00               Doha   \n",
       "..        ...          ...                        ...                ...   \n",
       "475       475         LEBL  2022-11-08 23:45:00+01:00  Palma De Mallorca   \n",
       "476       476         LEBL  2022-11-08 22:30:00+01:00             Madrid   \n",
       "477       477         LEBL  2022-11-08 22:45:00+01:00              Milan   \n",
       "478       478         LEBL  2022-11-08 22:20:00+01:00             London   \n",
       "479       479         LEBL  2022-11-08 22:55:00+01:00              Paris   \n",
       "\n",
       "       airline_name flight_number    status  \n",
       "0         Eurowings         EW 12   Unknown  \n",
       "1         Eurowings       EW 2002   Unknown  \n",
       "2         Eurowings       EW 9048   Unknown  \n",
       "3         Lufthansa        LH 170   Unknown  \n",
       "4     Qatar Airways         QR 79   Unknown  \n",
       "..              ...           ...       ...  \n",
       "475  Wasaya Airways        WT 223   Unknown  \n",
       "476         Vueling       VY 5091  Expected  \n",
       "477         Vueling       VY 6337  Expected  \n",
       "478         Vueling       VY 7825  Expected  \n",
       "479      Air France       AF 1448  Expected  \n",
       "\n",
       "[3184 rows x 7 columns]"
      ]
     },
     "execution_count": 77,
     "metadata": {},
     "output_type": "execute_result"
    }
   ],
   "source": [
    "flight = flight_df\n",
    "flight"
   ]
  },
  {
   "cell_type": "code",
   "execution_count": 78,
   "metadata": {},
   "outputs": [
    {
     "name": "stdout",
     "output_type": "stream",
     "text": [
      "b\n"
     ]
    }
   ],
   "source": [
    "schema=\"e_scooter\"   # name of the database you want to use here\n",
    "host=\"127.0.0.1\"        # to connect to your local server\n",
    "user=\"root\"\n",
    "password=\"saideshmukh16\" # your password!!!!\n",
    "port=3306\n",
    "con = f'mysql+pymysql://{user}:{password}@{host}:{port}/{schema}'\n",
    "\n",
    "print(\"b\")"
   ]
  },
  {
   "cell_type": "code",
   "execution_count": 79,
   "metadata": {},
   "outputs": [
    {
     "data": {
      "text/plain": [
       "3184"
      ]
     },
     "execution_count": 79,
     "metadata": {},
     "output_type": "execute_result"
    }
   ],
   "source": [
    "flight.to_sql(\"flights\", if_exists = \"append\", con = con, index = False)"
   ]
  },
  {
   "cell_type": "markdown",
   "metadata": {
    "id": "pn-pYyigVE_W"
   },
   "source": [
    "# By Normalisation\n"
   ]
  },
  {
   "cell_type": "code",
   "execution_count": 72,
   "metadata": {
    "id": "zdIRKH-PVRN9"
   },
   "outputs": [],
   "source": [
    "import pandas as pd\n",
    "from datetime import datetime, date, timedelta\n",
    "import requests\n",
    "from pytz import timezone"
   ]
  },
  {
   "cell_type": "code",
   "execution_count": 107,
   "metadata": {
    "id": "QIb-J1OaVnW7"
   },
   "outputs": [],
   "source": [
    "import requests"
   ]
  },
  {
   "cell_type": "code",
   "execution_count": 54,
   "metadata": {
    "id": "NK_-HyYKVLMQ"
   },
   "outputs": [],
   "source": [
    "def test_test(icao):\n",
    "\n",
    "  today = datetime.now().astimezone(timezone('Europe/Berlin')).date() # only needed on colab as the computer is sometimes in a different timezone\n",
    "  tomorrow = (today + timedelta(days=1))\n",
    "  time = [\"00:00\",\"11:59\"]\n",
    "  \n",
    "  url = \"https://aerodatabox.p.rapidapi.com/flights/airports/icao/EHAM/2022-11-04T08:00/2022-11-04T19:59\"\n",
    "  querystring = {\"withLeg\":\"true\",\"withCancelled\":\"true\",\"withCodeshared\":\"true\",\"withCargo\":\"true\",\"withPrivate\":\"true\",\"withLocation\":\"false\"}\n",
    "  headers = {\n",
    "\t    \"X-RapidAPI-Key\": \"e723d7487fmsh7fce19b65c2f2eep119c33jsneeee8c0c0fc9\",\n",
    "\t    \"X-RapidAPI-Host\": \"aerodatabox.p.rapidapi.com\"\n",
    "      }\n",
    "\n",
    "  response = requests.request(\"GET\", url, headers=headers, params=querystring)\n",
    "  flights_json = response.json()\n",
    "\n",
    "  df_ = pd.json_normalize(flights_json[\"arrivals\"])[['number', 'status', 'departure.airport.iata', ]].rename(columns={'departure.airport.iata': 'departure_airport', 'scheduledTimeLocal':'Time'})\n",
    "\n",
    "  return df_"
   ]
  },
  {
   "cell_type": "code",
   "execution_count": 55,
   "metadata": {
    "colab": {
     "base_uri": "https://localhost:8080/"
    },
    "id": "efwUmss-P_-a",
    "outputId": "a1073698-c853-419c-8002-f52002386f3d"
   },
   "outputs": [
    {
     "data": {
      "text/plain": [
       "{'scheduledTimeLocal': '2022-11-04 08:35+01:00',\n",
       " 'actualTimeLocal': '2022-11-04 08:27+01:00',\n",
       " 'runwayTimeLocal': '2022-11-04 08:27+01:00',\n",
       " 'scheduledTimeUtc': '2022-11-04 07:35Z',\n",
       " 'actualTimeUtc': '2022-11-04 07:27Z',\n",
       " 'runwayTimeUtc': '2022-11-04 07:27Z',\n",
       " 'quality': ['Basic', 'Live']}"
      ]
     },
     "execution_count": 55,
     "metadata": {},
     "output_type": "execute_result"
    }
   ],
   "source": [
    "flight_data['arrivals'][0]['arrival']"
   ]
  },
  {
   "cell_type": "code",
   "execution_count": 108,
   "metadata": {
    "colab": {
     "base_uri": "https://localhost:8080/",
     "height": 424
    },
    "id": "H00aXMYDVT1V",
    "outputId": "25a5b0d7-5912-42ee-dd76-72eb920d9f63"
   },
   "outputs": [
    {
     "data": {
      "text/html": [
       "\n",
       "  <div id=\"df-eab4e88a-aa56-4d69-ab84-2828942be220\">\n",
       "    <div class=\"colab-df-container\">\n",
       "      <div>\n",
       "<style scoped>\n",
       "    .dataframe tbody tr th:only-of-type {\n",
       "        vertical-align: middle;\n",
       "    }\n",
       "\n",
       "    .dataframe tbody tr th {\n",
       "        vertical-align: top;\n",
       "    }\n",
       "\n",
       "    .dataframe thead th {\n",
       "        text-align: right;\n",
       "    }\n",
       "</style>\n",
       "<table border=\"1\" class=\"dataframe\">\n",
       "  <thead>\n",
       "    <tr style=\"text-align: right;\">\n",
       "      <th></th>\n",
       "      <th>number</th>\n",
       "      <th>status</th>\n",
       "      <th>departure_airport</th>\n",
       "    </tr>\n",
       "  </thead>\n",
       "  <tbody>\n",
       "    <tr>\n",
       "      <th>0</th>\n",
       "      <td>AM 6471</td>\n",
       "      <td>Delayed</td>\n",
       "      <td>ZRH</td>\n",
       "    </tr>\n",
       "    <tr>\n",
       "      <th>1</th>\n",
       "      <td>DL 9549</td>\n",
       "      <td>Delayed</td>\n",
       "      <td>ZRH</td>\n",
       "    </tr>\n",
       "    <tr>\n",
       "      <th>2</th>\n",
       "      <td>G3 5579</td>\n",
       "      <td>Delayed</td>\n",
       "      <td>ZRH</td>\n",
       "    </tr>\n",
       "    <tr>\n",
       "      <th>3</th>\n",
       "      <td>KL 1952</td>\n",
       "      <td>Delayed</td>\n",
       "      <td>ZRH</td>\n",
       "    </tr>\n",
       "    <tr>\n",
       "      <th>4</th>\n",
       "      <td>KQ 1952</td>\n",
       "      <td>Delayed</td>\n",
       "      <td>ZRH</td>\n",
       "    </tr>\n",
       "    <tr>\n",
       "      <th>...</th>\n",
       "      <td>...</td>\n",
       "      <td>...</td>\n",
       "      <td>...</td>\n",
       "    </tr>\n",
       "    <tr>\n",
       "      <th>1449</th>\n",
       "      <td>KL 1922</td>\n",
       "      <td>Expected</td>\n",
       "      <td>GDN</td>\n",
       "    </tr>\n",
       "    <tr>\n",
       "      <th>1450</th>\n",
       "      <td>KL 938</td>\n",
       "      <td>Expected</td>\n",
       "      <td>DUB</td>\n",
       "    </tr>\n",
       "    <tr>\n",
       "      <th>1451</th>\n",
       "      <td>MF 9754</td>\n",
       "      <td>Expected</td>\n",
       "      <td>CDG</td>\n",
       "    </tr>\n",
       "    <tr>\n",
       "      <th>1452</th>\n",
       "      <td>MF 9998</td>\n",
       "      <td>Expected</td>\n",
       "      <td>DUB</td>\n",
       "    </tr>\n",
       "    <tr>\n",
       "      <th>1453</th>\n",
       "      <td>VS 6950</td>\n",
       "      <td>Expected</td>\n",
       "      <td>ABZ</td>\n",
       "    </tr>\n",
       "  </tbody>\n",
       "</table>\n",
       "<p>1454 rows × 3 columns</p>\n",
       "</div>\n",
       "      <button class=\"colab-df-convert\" onclick=\"convertToInteractive('df-eab4e88a-aa56-4d69-ab84-2828942be220')\"\n",
       "              title=\"Convert this dataframe to an interactive table.\"\n",
       "              style=\"display:none;\">\n",
       "        \n",
       "  <svg xmlns=\"http://www.w3.org/2000/svg\" height=\"24px\"viewBox=\"0 0 24 24\"\n",
       "       width=\"24px\">\n",
       "    <path d=\"M0 0h24v24H0V0z\" fill=\"none\"/>\n",
       "    <path d=\"M18.56 5.44l.94 2.06.94-2.06 2.06-.94-2.06-.94-.94-2.06-.94 2.06-2.06.94zm-11 1L8.5 8.5l.94-2.06 2.06-.94-2.06-.94L8.5 2.5l-.94 2.06-2.06.94zm10 10l.94 2.06.94-2.06 2.06-.94-2.06-.94-.94-2.06-.94 2.06-2.06.94z\"/><path d=\"M17.41 7.96l-1.37-1.37c-.4-.4-.92-.59-1.43-.59-.52 0-1.04.2-1.43.59L10.3 9.45l-7.72 7.72c-.78.78-.78 2.05 0 2.83L4 21.41c.39.39.9.59 1.41.59.51 0 1.02-.2 1.41-.59l7.78-7.78 2.81-2.81c.8-.78.8-2.07 0-2.86zM5.41 20L4 18.59l7.72-7.72 1.47 1.35L5.41 20z\"/>\n",
       "  </svg>\n",
       "      </button>\n",
       "      \n",
       "  <style>\n",
       "    .colab-df-container {\n",
       "      display:flex;\n",
       "      flex-wrap:wrap;\n",
       "      gap: 12px;\n",
       "    }\n",
       "\n",
       "    .colab-df-convert {\n",
       "      background-color: #E8F0FE;\n",
       "      border: none;\n",
       "      border-radius: 50%;\n",
       "      cursor: pointer;\n",
       "      display: none;\n",
       "      fill: #1967D2;\n",
       "      height: 32px;\n",
       "      padding: 0 0 0 0;\n",
       "      width: 32px;\n",
       "    }\n",
       "\n",
       "    .colab-df-convert:hover {\n",
       "      background-color: #E2EBFA;\n",
       "      box-shadow: 0px 1px 2px rgba(60, 64, 67, 0.3), 0px 1px 3px 1px rgba(60, 64, 67, 0.15);\n",
       "      fill: #174EA6;\n",
       "    }\n",
       "\n",
       "    [theme=dark] .colab-df-convert {\n",
       "      background-color: #3B4455;\n",
       "      fill: #D2E3FC;\n",
       "    }\n",
       "\n",
       "    [theme=dark] .colab-df-convert:hover {\n",
       "      background-color: #434B5C;\n",
       "      box-shadow: 0px 1px 3px 1px rgba(0, 0, 0, 0.15);\n",
       "      filter: drop-shadow(0px 1px 2px rgba(0, 0, 0, 0.3));\n",
       "      fill: #FFFFFF;\n",
       "    }\n",
       "  </style>\n",
       "\n",
       "      <script>\n",
       "        const buttonEl =\n",
       "          document.querySelector('#df-eab4e88a-aa56-4d69-ab84-2828942be220 button.colab-df-convert');\n",
       "        buttonEl.style.display =\n",
       "          google.colab.kernel.accessAllowed ? 'block' : 'none';\n",
       "\n",
       "        async function convertToInteractive(key) {\n",
       "          const element = document.querySelector('#df-eab4e88a-aa56-4d69-ab84-2828942be220');\n",
       "          const dataTable =\n",
       "            await google.colab.kernel.invokeFunction('convertToInteractive',\n",
       "                                                     [key], {});\n",
       "          if (!dataTable) return;\n",
       "\n",
       "          const docLinkHtml = 'Like what you see? Visit the ' +\n",
       "            '<a target=\"_blank\" href=https://colab.research.google.com/notebooks/data_table.ipynb>data table notebook</a>'\n",
       "            + ' to learn more about interactive tables.';\n",
       "          element.innerHTML = '';\n",
       "          dataTable['output_type'] = 'display_data';\n",
       "          await google.colab.output.renderOutput(dataTable, element);\n",
       "          const docLink = document.createElement('div');\n",
       "          docLink.innerHTML = docLinkHtml;\n",
       "          element.appendChild(docLink);\n",
       "        }\n",
       "      </script>\n",
       "    </div>\n",
       "  </div>\n",
       "  "
      ],
      "text/plain": [
       "       number    status departure_airport\n",
       "0     AM 6471   Delayed               ZRH\n",
       "1     DL 9549   Delayed               ZRH\n",
       "2     G3 5579   Delayed               ZRH\n",
       "3     KL 1952   Delayed               ZRH\n",
       "4     KQ 1952   Delayed               ZRH\n",
       "...       ...       ...               ...\n",
       "1449  KL 1922  Expected               GDN\n",
       "1450   KL 938  Expected               DUB\n",
       "1451  MF 9754  Expected               CDG\n",
       "1452  MF 9998  Expected               DUB\n",
       "1453  VS 6950  Expected               ABZ\n",
       "\n",
       "[1454 rows x 3 columns]"
      ]
     },
     "execution_count": 108,
     "metadata": {},
     "output_type": "execute_result"
    }
   ],
   "source": [
    "test_test(\"EHAM\")"
   ]
  }
 ],
 "metadata": {
  "colab": {
   "collapsed_sections": [],
   "provenance": [],
   "toc_visible": true
  },
  "kernelspec": {
   "display_name": "Python 3 (ipykernel)",
   "language": "python",
   "name": "python3"
  },
  "language_info": {
   "codemirror_mode": {
    "name": "ipython",
    "version": 3
   },
   "file_extension": ".py",
   "mimetype": "text/x-python",
   "name": "python",
   "nbconvert_exporter": "python",
   "pygments_lexer": "ipython3",
   "version": "3.9.12"
  }
 },
 "nbformat": 4,
 "nbformat_minor": 4
}
